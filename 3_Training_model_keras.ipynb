{
  "cells": [
    {
      "cell_type": "markdown",
      "metadata": {
        "id": "view-in-github",
        "colab_type": "text"
      },
      "source": [
        "<a href=\"https://colab.research.google.com/github/ruslanmv/Neural-Networks-from-Scratch/blob/master/3_Training_model_keras.ipynb\" target=\"_parent\"><img src=\"https://colab.research.google.com/assets/colab-badge.svg\" alt=\"Open In Colab\"/></a>"
      ]
    },
    {
      "cell_type": "code",
      "execution_count": 1,
      "metadata": {
        "id": "qFbdnshZTyGK"
      },
      "outputs": [],
      "source": [
        "#Importing library\n",
        "# Neural Networks\n",
        "import keras\n",
        "from keras.models import Sequential\n",
        "from keras.layers import Dense, Activation, Dropout, Flatten, Conv2D, MaxPooling2D\n",
        "import numpy as np\n",
        "from tensorflow.keras.layers import BatchNormalization\n",
        "from tensorflow.keras.optimizers import SGD"
      ]
    },
    {
      "cell_type": "code",
      "execution_count": 2,
      "metadata": {
        "id": "Jl6DbuPbTyGM"
      },
      "outputs": [],
      "source": [
        "#Helper functions about mmorpg-ai project\n",
        "import pandas as pd\n",
        "from sklearn.model_selection import train_test_split\n",
        "import numpy as np\n",
        "import io\n",
        "from IPython.display import clear_output, Image, display\n",
        "import PIL.Image\n",
        "from matplotlib import pyplot as plt\n",
        "import logging, sys\n",
        "logging.disable(sys.maxsize)\n",
        "import os\n",
        "\n",
        "def df_to_numpy_image(df_image_clean,index):\n",
        "    #select the row with index label 'index'\n",
        "    image_clean=df_image_clean.loc[[index]].T.to_numpy()\n",
        "    lists =image_clean.tolist()\n",
        "    # Nested List Comprehension to flatten a given 2-D matrix\n",
        "    # 2-D List\n",
        "    matrix = lists\n",
        "    flatten_matrix = [val.tolist() for sublist in matrix for val in sublist]\n",
        "    # converting list to array\n",
        "    arr = np.array(flatten_matrix)\n",
        "    return arr\n",
        "def df_to_numpy_input(df_input,index): \n",
        "    # flattening a 2d numpy array\n",
        "    # into 1d array\n",
        "    # and remove dtype at the end of numpy array\n",
        "    lista=df_input.loc[[index]].values.tolist()\n",
        "    arr=np.array(lista).ravel()\n",
        "    return arr\n",
        "#round a float up to next even number\n",
        "import math\n",
        "def roundeven(f):\n",
        "    return math.ceil(f / 2.) * 2\n"
      ]
    },
    {
      "cell_type": "code",
      "execution_count": 3,
      "metadata": {
        "id": "3PKWlUVSTyGN"
      },
      "outputs": [],
      "source": [
        "#We define the parameters\n",
        "width= 480\n",
        "height= 270\n",
        "ncolors=3\n",
        "#Normalization Parameter\n",
        "Norma        = 29/1000\n",
        "#Paramters                          Operation \n",
        "filters1     =  roundeven(96*Norma)   #1\n",
        "kernel1      =  11       \n",
        "stride1      =  4\n",
        "kernel2      =  3                     #2\n",
        "stride2      =  2\n",
        "filters3     =  roundeven(256*Norma)  #3\n",
        "kernel3      =  5\n",
        "kernel4      =  3                     #4\n",
        "stride4      =  2\n",
        "filters5     =  roundeven(384*Norma)  #5\n",
        "kernel5      =  3\n",
        "filters6     =  roundeven(384*Norma)  #6\n",
        "kernel6      =  3\n",
        "filters7     =  roundeven(256*Norma)  #7\n",
        "kernel7      =  3\n",
        "kernel8      =  3                      #8\n",
        "stride8      =  2 \n",
        "activation9  =  roundeven(4096*Norma)  #9\n",
        "activation10 =  roundeven(4096*Norma)  #10\n",
        "outputs11    =  int(1000*Norma)   #11\n",
        "dropout13=0.5\n",
        "dropout15=0.5\n",
        "learning_rate17=0.001"
      ]
    },
    {
      "cell_type": "code",
      "execution_count": 4,
      "metadata": {
        "id": "jTPq-dQxTyGO"
      },
      "outputs": [],
      "source": [
        "# fix random seed for reproducibility\n",
        "seed = 7\n",
        "np.random.seed(seed)"
      ]
    },
    {
      "cell_type": "code",
      "execution_count": 5,
      "metadata": {
        "id": "M_9YFNC2TyGO",
        "colab": {
          "base_uri": "https://localhost:8080/"
        },
        "outputId": "cd3ebb72-bf32-456d-d95a-ac95913c2cfa"
      },
      "outputs": [
        {
          "output_type": "stream",
          "name": "stdout",
          "text": [
            "Cloning into 'Neural-Networks-from-Scratch'...\n",
            "remote: Enumerating objects: 160, done.\u001b[K\n",
            "remote: Counting objects: 100% (76/76), done.\u001b[K\n",
            "remote: Compressing objects: 100% (60/60), done.\u001b[K\n",
            "remote: Total 160 (delta 46), reused 36 (delta 16), pack-reused 84\u001b[K\n",
            "Receiving objects: 100% (160/160), 317.30 MiB | 27.61 MiB/s, done.\n",
            "Resolving deltas: 100% (71/71), done.\n",
            "Checking out files: 100% (49/49), done.\n"
          ]
        }
      ],
      "source": [
        "#We load the datasets to work\n",
        "import os\n",
        "user = \"ruslanmv\"\n",
        "repo = \"Neural-Networks-from-Scratch\"\n",
        "# remove local directory if it already exists\n",
        "if os.path.isdir(repo):\n",
        "    !rm -rf {repo}\n",
        "!git clone https://github.com/{user}/{repo}.git"
      ]
    },
    {
      "cell_type": "code",
      "source": [
        "import os\n",
        "os.chdir('Neural-Networks-from-Scratch')"
      ],
      "metadata": {
        "id": "scUP5MaqUcr_"
      },
      "execution_count": 6,
      "outputs": []
    },
    {
      "cell_type": "code",
      "source": [
        "!ls /content/Neural-Networks-from-Scratch/data\n"
      ],
      "metadata": {
        "colab": {
          "base_uri": "https://localhost:8080/"
        },
        "id": "MWj6Lm-iUiqI",
        "outputId": "f43f704d-c296-4b8e-d6b8-995af608ce52"
      },
      "execution_count": 7,
      "outputs": [
        {
          "output_type": "stream",
          "name": "stdout",
          "text": [
            "dfx-0.pkl  dfx-1.pkl  dfx-2.pkl  dfy-0.pkl  dfy-1.pkl  dfy-2.pkl\n"
          ]
        }
      ]
    },
    {
      "cell_type": "code",
      "execution_count": 8,
      "metadata": {
        "id": "ONKK1E9CTyGP"
      },
      "outputs": [],
      "source": [
        "# Function to create model MmoNet\n",
        "def create_model(optimizer='adam',learn_rate=0.1, momentum=0):\n",
        "    # create model\n",
        "    MmoNet = Sequential()\n",
        "    MmoNet.add(Conv2D(filters=filters1, input_shape=(height, width, ncolors), kernel_size=(11,11), strides=(stride1,stride1), padding='same'))\n",
        "    MmoNet.add(BatchNormalization())\n",
        "    MmoNet.add(Activation('relu'))\n",
        "    MmoNet.add(MaxPooling2D(pool_size=(kernel2,kernel2), strides=(stride2,stride2), padding='same'))\n",
        "    MmoNet.add(Conv2D(filters=filters3, kernel_size=(kernel3, kernel3), padding='same'))\n",
        "    MmoNet.add(BatchNormalization())\n",
        "    MmoNet.add(Activation('relu'))\n",
        "    MmoNet.add(MaxPooling2D(pool_size=(kernel4,kernel4), strides=(stride4,stride4), padding='same'))\n",
        "    #3rd Convolutional Layer\n",
        "    MmoNet.add(Conv2D(filters=filters5, kernel_size=(kernel5,kernel5), padding='same'))\n",
        "    MmoNet.add(BatchNormalization())\n",
        "    MmoNet.add(Activation('relu'))\n",
        "    #4th Convolutional Layer\n",
        "    MmoNet.add(Conv2D(filters=filters6, kernel_size=( kernel6, kernel6), padding='same'))\n",
        "    MmoNet.add(BatchNormalization())\n",
        "    MmoNet.add(Activation('relu'))\n",
        "    #5th Convolutional Layer\n",
        "    MmoNet.add(Conv2D(filters=filters7, kernel_size=(kernel7,kernel7),  padding='same'))\n",
        "    MmoNet.add(BatchNormalization())\n",
        "    MmoNet.add(Activation('relu'))\n",
        "    MmoNet.add(MaxPooling2D(pool_size=(kernel8,kernel8), strides=(stride8,stride8), padding='same'))\n",
        "    #Passing it to a Fully Connected layer\n",
        "    MmoNet.add(Flatten())\n",
        "    # 1st Fully Connected Layer\n",
        "    MmoNet.add(Dense(activation9, input_shape=(270, 480, 3,)))\n",
        "    MmoNet.add(BatchNormalization())\n",
        "    MmoNet.add(Activation('relu'))\n",
        "    # Add Dropout to prevent overfitting\n",
        "    MmoNet.add(Dropout(dropout13))\n",
        "    #2nd Fully Connected Layer\n",
        "    MmoNet.add(Dense(activation10))\n",
        "    MmoNet.add(BatchNormalization())\n",
        "    MmoNet.add(Activation('relu'))\n",
        "    #Add Dropout\n",
        "    MmoNet.add(Dropout(dropout15))\n",
        "    #3rd Fully Connected Layer\n",
        "    MmoNet.add(Dense(1000))\n",
        "    MmoNet.add(BatchNormalization())\n",
        "    MmoNet.add(Activation('relu'))\n",
        "    #Add Dropout\n",
        "    MmoNet.add(Dropout(dropout15))\n",
        "    #Output Layer\n",
        "    MmoNet.add(Dense(outputs11))\n",
        "    MmoNet.add(BatchNormalization())\n",
        "    MmoNet.add(Activation('softmax'))\n",
        "\n",
        "    # Compile model\n",
        "    optimizer = SGD(learning_rate=learn_rate, momentum=momentum)\n",
        "    \n",
        "\n",
        "    MmoNet.compile(loss='binary_crossentropy', optimizer=optimizer, metrics=['accuracy'])\n",
        "    return MmoNet"
      ]
    },
    {
      "cell_type": "code",
      "execution_count": 9,
      "metadata": {
        "id": "GDh1oWhKTyGQ"
      },
      "outputs": [],
      "source": [
        "model = create_model()"
      ]
    },
    {
      "cell_type": "code",
      "execution_count": 10,
      "metadata": {
        "id": "DiuFuiXYTyGQ",
        "colab": {
          "base_uri": "https://localhost:8080/"
        },
        "outputId": "53b52526-6f2c-4675-f102-4c41717de4ad"
      },
      "outputs": [
        {
          "output_type": "stream",
          "name": "stdout",
          "text": [
            "Model: \"sequential\"\n",
            "_________________________________________________________________\n",
            " Layer (type)                Output Shape              Param #   \n",
            "=================================================================\n",
            " conv2d (Conv2D)             (None, 68, 120, 4)        1456      \n",
            "                                                                 \n",
            " batch_normalization (BatchN  (None, 68, 120, 4)       16        \n",
            " ormalization)                                                   \n",
            "                                                                 \n",
            " activation (Activation)     (None, 68, 120, 4)        0         \n",
            "                                                                 \n",
            " max_pooling2d (MaxPooling2D  (None, 34, 60, 4)        0         \n",
            " )                                                               \n",
            "                                                                 \n",
            " conv2d_1 (Conv2D)           (None, 34, 60, 8)         808       \n",
            "                                                                 \n",
            " batch_normalization_1 (Batc  (None, 34, 60, 8)        32        \n",
            " hNormalization)                                                 \n",
            "                                                                 \n",
            " activation_1 (Activation)   (None, 34, 60, 8)         0         \n",
            "                                                                 \n",
            " max_pooling2d_1 (MaxPooling  (None, 17, 30, 8)        0         \n",
            " 2D)                                                             \n",
            "                                                                 \n",
            " conv2d_2 (Conv2D)           (None, 17, 30, 12)        876       \n",
            "                                                                 \n",
            " batch_normalization_2 (Batc  (None, 17, 30, 12)       48        \n",
            " hNormalization)                                                 \n",
            "                                                                 \n",
            " activation_2 (Activation)   (None, 17, 30, 12)        0         \n",
            "                                                                 \n",
            " conv2d_3 (Conv2D)           (None, 17, 30, 12)        1308      \n",
            "                                                                 \n",
            " batch_normalization_3 (Batc  (None, 17, 30, 12)       48        \n",
            " hNormalization)                                                 \n",
            "                                                                 \n",
            " activation_3 (Activation)   (None, 17, 30, 12)        0         \n",
            "                                                                 \n",
            " conv2d_4 (Conv2D)           (None, 17, 30, 8)         872       \n",
            "                                                                 \n",
            " batch_normalization_4 (Batc  (None, 17, 30, 8)        32        \n",
            " hNormalization)                                                 \n",
            "                                                                 \n",
            " activation_4 (Activation)   (None, 17, 30, 8)         0         \n",
            "                                                                 \n",
            " max_pooling2d_2 (MaxPooling  (None, 9, 15, 8)         0         \n",
            " 2D)                                                             \n",
            "                                                                 \n",
            " flatten (Flatten)           (None, 1080)              0         \n",
            "                                                                 \n",
            " dense (Dense)               (None, 120)               129720    \n",
            "                                                                 \n",
            " batch_normalization_5 (Batc  (None, 120)              480       \n",
            " hNormalization)                                                 \n",
            "                                                                 \n",
            " activation_5 (Activation)   (None, 120)               0         \n",
            "                                                                 \n",
            " dropout (Dropout)           (None, 120)               0         \n",
            "                                                                 \n",
            " dense_1 (Dense)             (None, 120)               14520     \n",
            "                                                                 \n",
            " batch_normalization_6 (Batc  (None, 120)              480       \n",
            " hNormalization)                                                 \n",
            "                                                                 \n",
            " activation_6 (Activation)   (None, 120)               0         \n",
            "                                                                 \n",
            " dropout_1 (Dropout)         (None, 120)               0         \n",
            "                                                                 \n",
            " dense_2 (Dense)             (None, 1000)              121000    \n",
            "                                                                 \n",
            " batch_normalization_7 (Batc  (None, 1000)             4000      \n",
            " hNormalization)                                                 \n",
            "                                                                 \n",
            " activation_7 (Activation)   (None, 1000)              0         \n",
            "                                                                 \n",
            " dropout_2 (Dropout)         (None, 1000)              0         \n",
            "                                                                 \n",
            " dense_3 (Dense)             (None, 29)                29029     \n",
            "                                                                 \n",
            " batch_normalization_8 (Batc  (None, 29)               116       \n",
            " hNormalization)                                                 \n",
            "                                                                 \n",
            " activation_8 (Activation)   (None, 29)                0         \n",
            "                                                                 \n",
            "=================================================================\n",
            "Total params: 304,841\n",
            "Trainable params: 302,215\n",
            "Non-trainable params: 2,626\n",
            "_________________________________________________________________\n"
          ]
        }
      ],
      "source": [
        "model.summary()"
      ]
    },
    {
      "cell_type": "code",
      "execution_count": 11,
      "metadata": {
        "id": "MMtF4zN7TyGR"
      },
      "outputs": [],
      "source": [
        "# load dataset\n",
        "#We load the images of the gameplay\n",
        "x_training_data=pd.read_pickle('data/dfx-0.pkl')  \n",
        "#We load the inputs of the of the gameplay\n",
        "y_training_data=pd.read_pickle('data/dfy-0.pkl')  \n",
        "X_train, X_valid, y_train, y_valid = train_test_split(x_training_data, y_training_data, test_size=0.2, random_state=6)\n",
        "# Train Image part ( 4 Dimensional)\n",
        "X_image = np.array([df_to_numpy_image(X_train,i) for i in X_train.index])\n",
        "X=X_image.reshape(-1,width,height,3)\n",
        "#Train Input part ( 1 Dimensional )\n",
        "Y = [df_to_numpy_input(y_train,i) for i in y_train.index]\n",
        "# Test Image part ( 4 Dimensional)\n",
        "test_image = np.array([df_to_numpy_image(X_valid,i) for i in X_valid.index])\n",
        "test_x=test_image.reshape(-1,width,height,3)\n",
        "## Test Input part( 1 Dimensional )\n",
        "test_y = [df_to_numpy_input(y_valid,i) for i in y_valid.index]"
      ]
    },
    {
      "cell_type": "code",
      "source": [
        "X_image.shape\n",
        "\n"
      ],
      "metadata": {
        "colab": {
          "base_uri": "https://localhost:8080/"
        },
        "id": "nQH0vHxlXNeZ",
        "outputId": "f267f322-3e70-45e6-e7e5-e5b6fc106f39"
      },
      "execution_count": 12,
      "outputs": [
        {
          "output_type": "execute_result",
          "data": {
            "text/plain": [
              "(200, 270, 480, 3)"
            ]
          },
          "metadata": {},
          "execution_count": 12
        }
      ]
    },
    {
      "cell_type": "code",
      "source": [
        "type(X_image)"
      ],
      "metadata": {
        "colab": {
          "base_uri": "https://localhost:8080/"
        },
        "id": "MAWbMeqyYdjI",
        "outputId": "ed20aaa5-8615-4097-9c52-aff07ac6d54d"
      },
      "execution_count": 13,
      "outputs": [
        {
          "output_type": "execute_result",
          "data": {
            "text/plain": [
              "numpy.ndarray"
            ]
          },
          "metadata": {},
          "execution_count": 13
        }
      ]
    },
    {
      "cell_type": "code",
      "source": [
        "Y_input=np.array(Y)"
      ],
      "metadata": {
        "id": "50b_XlCvYnHZ"
      },
      "execution_count": 14,
      "outputs": []
    },
    {
      "cell_type": "code",
      "source": [
        "Y_input.shape"
      ],
      "metadata": {
        "colab": {
          "base_uri": "https://localhost:8080/"
        },
        "id": "Fj25GDwVXxsW",
        "outputId": "cb2832f3-5894-45eb-e6d0-0b75e75945ce"
      },
      "execution_count": 17,
      "outputs": [
        {
          "output_type": "execute_result",
          "data": {
            "text/plain": [
              "(200, 29)"
            ]
          },
          "metadata": {},
          "execution_count": 17
        }
      ]
    },
    {
      "cell_type": "code",
      "source": [
        "test_image.shape"
      ],
      "metadata": {
        "colab": {
          "base_uri": "https://localhost:8080/"
        },
        "id": "5fZApfK6Xx3l",
        "outputId": "0e98d38c-81d3-478f-c2d3-3a9e84f0b794"
      },
      "execution_count": 18,
      "outputs": [
        {
          "output_type": "execute_result",
          "data": {
            "text/plain": [
              "(50, 270, 480, 3)"
            ]
          },
          "metadata": {},
          "execution_count": 18
        }
      ]
    },
    {
      "cell_type": "code",
      "source": [
        "test_input=np.array(test_y)"
      ],
      "metadata": {
        "id": "ph1KUvHUY33R"
      },
      "execution_count": 19,
      "outputs": []
    },
    {
      "cell_type": "code",
      "source": [
        "test_input.shape"
      ],
      "metadata": {
        "colab": {
          "base_uri": "https://localhost:8080/"
        },
        "id": "HqqwzpvYXyCJ",
        "outputId": "e4588b0b-a2cc-4983-c2f0-c9d0d374b815"
      },
      "execution_count": 20,
      "outputs": [
        {
          "output_type": "execute_result",
          "data": {
            "text/plain": [
              "(50, 29)"
            ]
          },
          "metadata": {},
          "execution_count": 20
        }
      ]
    },
    {
      "cell_type": "code",
      "source": [
        "X_train = X_image\n",
        "y_train = Y_input\n",
        "X_test=  test_image\n",
        "y_test = test_input"
      ],
      "metadata": {
        "id": "cTyFQTgWgHiQ"
      },
      "execution_count": 32,
      "outputs": []
    },
    {
      "cell_type": "code",
      "execution_count": 21,
      "metadata": {
        "id": "gTlmrTtpTyGR",
        "colab": {
          "base_uri": "https://localhost:8080/"
        },
        "outputId": "501a8fa6-61a4-4b30-e143-2ac14d83b670"
      },
      "outputs": [
        {
          "output_type": "stream",
          "name": "stdout",
          "text": [
            "Epoch 1/100\n",
            "3/3 [==============================] - 14s 604ms/step - loss: 0.8030 - accuracy: 0.0450 - val_loss: 0.8882 - val_accuracy: 0.0000e+00\n",
            "Epoch 2/100\n",
            "3/3 [==============================] - 1s 182ms/step - loss: 0.7992 - accuracy: 0.0200 - val_loss: 0.8105 - val_accuracy: 0.0000e+00\n",
            "Epoch 3/100\n",
            "3/3 [==============================] - 0s 179ms/step - loss: 0.7965 - accuracy: 0.0250 - val_loss: 0.7878 - val_accuracy: 0.0000e+00\n",
            "Epoch 4/100\n",
            "3/3 [==============================] - 0s 171ms/step - loss: 0.7927 - accuracy: 0.0500 - val_loss: 0.7624 - val_accuracy: 0.0000e+00\n",
            "Epoch 5/100\n",
            "3/3 [==============================] - 0s 170ms/step - loss: 0.7911 - accuracy: 0.0250 - val_loss: 0.7633 - val_accuracy: 0.0000e+00\n",
            "Epoch 6/100\n",
            "3/3 [==============================] - 0s 171ms/step - loss: 0.7873 - accuracy: 0.0500 - val_loss: 0.7569 - val_accuracy: 0.0000e+00\n",
            "Epoch 7/100\n",
            "3/3 [==============================] - 1s 192ms/step - loss: 0.7842 - accuracy: 0.0200 - val_loss: 0.7431 - val_accuracy: 0.0000e+00\n",
            "Epoch 8/100\n",
            "3/3 [==============================] - 0s 182ms/step - loss: 0.7817 - accuracy: 0.0300 - val_loss: 0.7329 - val_accuracy: 0.0000e+00\n",
            "Epoch 9/100\n",
            "3/3 [==============================] - 0s 173ms/step - loss: 0.7783 - accuracy: 0.0300 - val_loss: 0.7231 - val_accuracy: 0.0000e+00\n",
            "Epoch 10/100\n",
            "3/3 [==============================] - 0s 173ms/step - loss: 0.7752 - accuracy: 0.0400 - val_loss: 0.7122 - val_accuracy: 0.0000e+00\n",
            "Epoch 11/100\n",
            "3/3 [==============================] - 0s 180ms/step - loss: 0.7722 - accuracy: 0.0450 - val_loss: 0.7087 - val_accuracy: 0.0000e+00\n",
            "Epoch 12/100\n",
            "3/3 [==============================] - 0s 171ms/step - loss: 0.7691 - accuracy: 0.0400 - val_loss: 0.6981 - val_accuracy: 0.0000e+00\n",
            "Epoch 13/100\n",
            "3/3 [==============================] - 0s 170ms/step - loss: 0.7671 - accuracy: 0.0500 - val_loss: 0.6893 - val_accuracy: 0.0000e+00\n",
            "Epoch 14/100\n",
            "3/3 [==============================] - 0s 175ms/step - loss: 0.7636 - accuracy: 0.0450 - val_loss: 0.6819 - val_accuracy: 0.0000e+00\n",
            "Epoch 15/100\n",
            "3/3 [==============================] - 0s 169ms/step - loss: 0.7606 - accuracy: 0.0600 - val_loss: 0.6698 - val_accuracy: 0.0000e+00\n",
            "Epoch 16/100\n",
            "3/3 [==============================] - 0s 171ms/step - loss: 0.7575 - accuracy: 0.0400 - val_loss: 0.6674 - val_accuracy: 0.0000e+00\n",
            "Epoch 17/100\n",
            "3/3 [==============================] - 0s 177ms/step - loss: 0.7553 - accuracy: 0.0450 - val_loss: 0.6581 - val_accuracy: 0.0000e+00\n",
            "Epoch 18/100\n",
            "3/3 [==============================] - 0s 174ms/step - loss: 0.7513 - accuracy: 0.0400 - val_loss: 0.6564 - val_accuracy: 0.0200\n",
            "Epoch 19/100\n",
            "3/3 [==============================] - 0s 170ms/step - loss: 0.7491 - accuracy: 0.0650 - val_loss: 0.6519 - val_accuracy: 0.0000e+00\n",
            "Epoch 20/100\n",
            "3/3 [==============================] - 0s 168ms/step - loss: 0.7450 - accuracy: 0.0600 - val_loss: 0.6507 - val_accuracy: 0.0000e+00\n",
            "Epoch 21/100\n",
            "3/3 [==============================] - 0s 174ms/step - loss: 0.7437 - accuracy: 0.0550 - val_loss: 0.6467 - val_accuracy: 0.0200\n",
            "Epoch 22/100\n",
            "3/3 [==============================] - 1s 194ms/step - loss: 0.7403 - accuracy: 0.0750 - val_loss: 0.6389 - val_accuracy: 0.0400\n",
            "Epoch 23/100\n",
            "3/3 [==============================] - 0s 176ms/step - loss: 0.7367 - accuracy: 0.0750 - val_loss: 0.6345 - val_accuracy: 0.0600\n",
            "Epoch 24/100\n",
            "3/3 [==============================] - 0s 175ms/step - loss: 0.7346 - accuracy: 0.0700 - val_loss: 0.6351 - val_accuracy: 0.0600\n",
            "Epoch 25/100\n",
            "3/3 [==============================] - 0s 169ms/step - loss: 0.7316 - accuracy: 0.0800 - val_loss: 0.6337 - val_accuracy: 0.0600\n",
            "Epoch 26/100\n",
            "3/3 [==============================] - 0s 180ms/step - loss: 0.7292 - accuracy: 0.0450 - val_loss: 0.6287 - val_accuracy: 0.1000\n",
            "Epoch 27/100\n",
            "3/3 [==============================] - 0s 168ms/step - loss: 0.7259 - accuracy: 0.0800 - val_loss: 0.6267 - val_accuracy: 0.1000\n",
            "Epoch 28/100\n",
            "3/3 [==============================] - 0s 170ms/step - loss: 0.7240 - accuracy: 0.0750 - val_loss: 0.6207 - val_accuracy: 0.1200\n",
            "Epoch 29/100\n",
            "3/3 [==============================] - 0s 169ms/step - loss: 0.7205 - accuracy: 0.0550 - val_loss: 0.6162 - val_accuracy: 0.1400\n",
            "Epoch 30/100\n",
            "3/3 [==============================] - 0s 173ms/step - loss: 0.7189 - accuracy: 0.0950 - val_loss: 0.6113 - val_accuracy: 0.1800\n",
            "Epoch 31/100\n",
            "3/3 [==============================] - 0s 171ms/step - loss: 0.7161 - accuracy: 0.0850 - val_loss: 0.6112 - val_accuracy: 0.1400\n",
            "Epoch 32/100\n",
            "3/3 [==============================] - 0s 173ms/step - loss: 0.7120 - accuracy: 0.0400 - val_loss: 0.6072 - val_accuracy: 0.1400\n",
            "Epoch 33/100\n",
            "3/3 [==============================] - 0s 169ms/step - loss: 0.7104 - accuracy: 0.0850 - val_loss: 0.6030 - val_accuracy: 0.2000\n",
            "Epoch 34/100\n",
            "3/3 [==============================] - 0s 176ms/step - loss: 0.7070 - accuracy: 0.0950 - val_loss: 0.6000 - val_accuracy: 0.2200\n",
            "Epoch 35/100\n",
            "3/3 [==============================] - 0s 173ms/step - loss: 0.7053 - accuracy: 0.0600 - val_loss: 0.5977 - val_accuracy: 0.2400\n",
            "Epoch 36/100\n",
            "3/3 [==============================] - 0s 167ms/step - loss: 0.7034 - accuracy: 0.0650 - val_loss: 0.5940 - val_accuracy: 0.2600\n",
            "Epoch 37/100\n",
            "3/3 [==============================] - 0s 169ms/step - loss: 0.7004 - accuracy: 0.0550 - val_loss: 0.5915 - val_accuracy: 0.3000\n",
            "Epoch 38/100\n",
            "3/3 [==============================] - 0s 170ms/step - loss: 0.6970 - accuracy: 0.0850 - val_loss: 0.5898 - val_accuracy: 0.3000\n",
            "Epoch 39/100\n",
            "3/3 [==============================] - 0s 184ms/step - loss: 0.6950 - accuracy: 0.0850 - val_loss: 0.5884 - val_accuracy: 0.2600\n",
            "Epoch 40/100\n",
            "3/3 [==============================] - 0s 172ms/step - loss: 0.6933 - accuracy: 0.1050 - val_loss: 0.5861 - val_accuracy: 0.2200\n",
            "Epoch 41/100\n",
            "3/3 [==============================] - 0s 173ms/step - loss: 0.6893 - accuracy: 0.0650 - val_loss: 0.5847 - val_accuracy: 0.2400\n",
            "Epoch 42/100\n",
            "3/3 [==============================] - 0s 168ms/step - loss: 0.6875 - accuracy: 0.0900 - val_loss: 0.5834 - val_accuracy: 0.2400\n",
            "Epoch 43/100\n",
            "3/3 [==============================] - 0s 174ms/step - loss: 0.6844 - accuracy: 0.0600 - val_loss: 0.5816 - val_accuracy: 0.3800\n",
            "Epoch 44/100\n",
            "3/3 [==============================] - 0s 169ms/step - loss: 0.6817 - accuracy: 0.0600 - val_loss: 0.5808 - val_accuracy: 0.3400\n",
            "Epoch 45/100\n",
            "3/3 [==============================] - 0s 170ms/step - loss: 0.6795 - accuracy: 0.0750 - val_loss: 0.5777 - val_accuracy: 0.4600\n",
            "Epoch 46/100\n",
            "3/3 [==============================] - 1s 286ms/step - loss: 0.6757 - accuracy: 0.0950 - val_loss: 0.5767 - val_accuracy: 0.5400\n",
            "Epoch 47/100\n",
            "3/3 [==============================] - 0s 177ms/step - loss: 0.6743 - accuracy: 0.1250 - val_loss: 0.5736 - val_accuracy: 0.4200\n",
            "Epoch 48/100\n",
            "3/3 [==============================] - 1s 222ms/step - loss: 0.6714 - accuracy: 0.1150 - val_loss: 0.5718 - val_accuracy: 0.4400\n",
            "Epoch 49/100\n",
            "3/3 [==============================] - 1s 294ms/step - loss: 0.6695 - accuracy: 0.1000 - val_loss: 0.5689 - val_accuracy: 0.5400\n",
            "Epoch 50/100\n",
            "3/3 [==============================] - 0s 180ms/step - loss: 0.6679 - accuracy: 0.0650 - val_loss: 0.5674 - val_accuracy: 0.5400\n",
            "Epoch 51/100\n",
            "3/3 [==============================] - 0s 167ms/step - loss: 0.6640 - accuracy: 0.1250 - val_loss: 0.5650 - val_accuracy: 0.5400\n",
            "Epoch 52/100\n",
            "3/3 [==============================] - 0s 169ms/step - loss: 0.6623 - accuracy: 0.1300 - val_loss: 0.5642 - val_accuracy: 0.5600\n",
            "Epoch 53/100\n",
            "3/3 [==============================] - 0s 174ms/step - loss: 0.6602 - accuracy: 0.1150 - val_loss: 0.5614 - val_accuracy: 0.5800\n",
            "Epoch 54/100\n",
            "3/3 [==============================] - 0s 179ms/step - loss: 0.6570 - accuracy: 0.1000 - val_loss: 0.5600 - val_accuracy: 0.5400\n",
            "Epoch 55/100\n",
            "3/3 [==============================] - 0s 166ms/step - loss: 0.6554 - accuracy: 0.1050 - val_loss: 0.5607 - val_accuracy: 0.4600\n",
            "Epoch 56/100\n",
            "3/3 [==============================] - 1s 199ms/step - loss: 0.6518 - accuracy: 0.1100 - val_loss: 0.5587 - val_accuracy: 0.5000\n",
            "Epoch 57/100\n",
            "3/3 [==============================] - 0s 174ms/step - loss: 0.6498 - accuracy: 0.1300 - val_loss: 0.5556 - val_accuracy: 0.5400\n",
            "Epoch 58/100\n",
            "3/3 [==============================] - 0s 173ms/step - loss: 0.6476 - accuracy: 0.1350 - val_loss: 0.5541 - val_accuracy: 0.5600\n",
            "Epoch 59/100\n",
            "3/3 [==============================] - 0s 170ms/step - loss: 0.6456 - accuracy: 0.1150 - val_loss: 0.5516 - val_accuracy: 0.5400\n",
            "Epoch 60/100\n",
            "3/3 [==============================] - 0s 169ms/step - loss: 0.6428 - accuracy: 0.1150 - val_loss: 0.5517 - val_accuracy: 0.5200\n",
            "Epoch 61/100\n",
            "3/3 [==============================] - 0s 175ms/step - loss: 0.6406 - accuracy: 0.1150 - val_loss: 0.5489 - val_accuracy: 0.5200\n",
            "Epoch 62/100\n",
            "3/3 [==============================] - 0s 169ms/step - loss: 0.6362 - accuracy: 0.1500 - val_loss: 0.5464 - val_accuracy: 0.5400\n",
            "Epoch 63/100\n",
            "3/3 [==============================] - 0s 171ms/step - loss: 0.6354 - accuracy: 0.1100 - val_loss: 0.5440 - val_accuracy: 0.5400\n",
            "Epoch 64/100\n",
            "3/3 [==============================] - 0s 167ms/step - loss: 0.6328 - accuracy: 0.1350 - val_loss: 0.5414 - val_accuracy: 0.5200\n",
            "Epoch 65/100\n",
            "3/3 [==============================] - 0s 172ms/step - loss: 0.6316 - accuracy: 0.1400 - val_loss: 0.5390 - val_accuracy: 0.5400\n",
            "Epoch 66/100\n",
            "3/3 [==============================] - 0s 170ms/step - loss: 0.6289 - accuracy: 0.1450 - val_loss: 0.5383 - val_accuracy: 0.5200\n",
            "Epoch 67/100\n",
            "3/3 [==============================] - 0s 171ms/step - loss: 0.6260 - accuracy: 0.1800 - val_loss: 0.5330 - val_accuracy: 0.5400\n",
            "Epoch 68/100\n",
            "3/3 [==============================] - 0s 163ms/step - loss: 0.6229 - accuracy: 0.1450 - val_loss: 0.5298 - val_accuracy: 0.5000\n",
            "Epoch 69/100\n",
            "3/3 [==============================] - 0s 172ms/step - loss: 0.6218 - accuracy: 0.1150 - val_loss: 0.5294 - val_accuracy: 0.4800\n",
            "Epoch 70/100\n",
            "3/3 [==============================] - 0s 173ms/step - loss: 0.6200 - accuracy: 0.1750 - val_loss: 0.5248 - val_accuracy: 0.5200\n",
            "Epoch 71/100\n",
            "3/3 [==============================] - 0s 177ms/step - loss: 0.6171 - accuracy: 0.1650 - val_loss: 0.5228 - val_accuracy: 0.5400\n",
            "Epoch 72/100\n",
            "3/3 [==============================] - 0s 179ms/step - loss: 0.6150 - accuracy: 0.1800 - val_loss: 0.5207 - val_accuracy: 0.5800\n",
            "Epoch 73/100\n",
            "3/3 [==============================] - 0s 176ms/step - loss: 0.6127 - accuracy: 0.1900 - val_loss: 0.5217 - val_accuracy: 0.6800\n",
            "Epoch 74/100\n",
            "3/3 [==============================] - 0s 175ms/step - loss: 0.6101 - accuracy: 0.1700 - val_loss: 0.5210 - val_accuracy: 0.7200\n",
            "Epoch 75/100\n",
            "3/3 [==============================] - 0s 181ms/step - loss: 0.6086 - accuracy: 0.1900 - val_loss: 0.5159 - val_accuracy: 0.6400\n",
            "Epoch 76/100\n",
            "3/3 [==============================] - 0s 166ms/step - loss: 0.6046 - accuracy: 0.1350 - val_loss: 0.5148 - val_accuracy: 0.6800\n",
            "Epoch 77/100\n",
            "3/3 [==============================] - 0s 167ms/step - loss: 0.6037 - accuracy: 0.2200 - val_loss: 0.5120 - val_accuracy: 0.6400\n",
            "Epoch 78/100\n",
            "3/3 [==============================] - 0s 170ms/step - loss: 0.6013 - accuracy: 0.1950 - val_loss: 0.5127 - val_accuracy: 0.6400\n",
            "Epoch 79/100\n",
            "3/3 [==============================] - 0s 172ms/step - loss: 0.5987 - accuracy: 0.2650 - val_loss: 0.5115 - val_accuracy: 0.6000\n",
            "Epoch 80/100\n",
            "3/3 [==============================] - 0s 171ms/step - loss: 0.5973 - accuracy: 0.1750 - val_loss: 0.5085 - val_accuracy: 0.6000\n",
            "Epoch 81/100\n",
            "3/3 [==============================] - 0s 169ms/step - loss: 0.5954 - accuracy: 0.2000 - val_loss: 0.5058 - val_accuracy: 0.6200\n",
            "Epoch 82/100\n",
            "3/3 [==============================] - 0s 168ms/step - loss: 0.5934 - accuracy: 0.2050 - val_loss: 0.5050 - val_accuracy: 0.6600\n",
            "Epoch 83/100\n",
            "3/3 [==============================] - 0s 179ms/step - loss: 0.5918 - accuracy: 0.1850 - val_loss: 0.5071 - val_accuracy: 0.7600\n",
            "Epoch 84/100\n",
            "3/3 [==============================] - 0s 164ms/step - loss: 0.5891 - accuracy: 0.1500 - val_loss: 0.5083 - val_accuracy: 0.8800\n",
            "Epoch 85/100\n",
            "3/3 [==============================] - 0s 174ms/step - loss: 0.5862 - accuracy: 0.1900 - val_loss: 0.5079 - val_accuracy: 0.9000\n",
            "Epoch 86/100\n",
            "3/3 [==============================] - 0s 170ms/step - loss: 0.5839 - accuracy: 0.2400 - val_loss: 0.4995 - val_accuracy: 0.7400\n",
            "Epoch 87/100\n",
            "3/3 [==============================] - 0s 171ms/step - loss: 0.5822 - accuracy: 0.1950 - val_loss: 0.4981 - val_accuracy: 0.7200\n",
            "Epoch 88/100\n",
            "3/3 [==============================] - 0s 167ms/step - loss: 0.5802 - accuracy: 0.2800 - val_loss: 0.4974 - val_accuracy: 0.7000\n",
            "Epoch 89/100\n",
            "3/3 [==============================] - 0s 171ms/step - loss: 0.5782 - accuracy: 0.2600 - val_loss: 0.4946 - val_accuracy: 0.7400\n",
            "Epoch 90/100\n",
            "3/3 [==============================] - 0s 172ms/step - loss: 0.5758 - accuracy: 0.2250 - val_loss: 0.4923 - val_accuracy: 0.7600\n",
            "Epoch 91/100\n",
            "3/3 [==============================] - 0s 171ms/step - loss: 0.5742 - accuracy: 0.2350 - val_loss: 0.4958 - val_accuracy: 0.8800\n",
            "Epoch 92/100\n",
            "3/3 [==============================] - 0s 177ms/step - loss: 0.5726 - accuracy: 0.2550 - val_loss: 0.4919 - val_accuracy: 0.7400\n",
            "Epoch 93/100\n",
            "3/3 [==============================] - 0s 168ms/step - loss: 0.5701 - accuracy: 0.2250 - val_loss: 0.4857 - val_accuracy: 0.7400\n",
            "Epoch 94/100\n",
            "3/3 [==============================] - 0s 169ms/step - loss: 0.5683 - accuracy: 0.2650 - val_loss: 0.4875 - val_accuracy: 0.8000\n",
            "Epoch 95/100\n",
            "3/3 [==============================] - 0s 176ms/step - loss: 0.5655 - accuracy: 0.3000 - val_loss: 0.4834 - val_accuracy: 0.7800\n",
            "Epoch 96/100\n",
            "3/3 [==============================] - 0s 178ms/step - loss: 0.5641 - accuracy: 0.3250 - val_loss: 0.4834 - val_accuracy: 0.7800\n",
            "Epoch 97/100\n",
            "3/3 [==============================] - 0s 170ms/step - loss: 0.5608 - accuracy: 0.3150 - val_loss: 0.4853 - val_accuracy: 0.8000\n",
            "Epoch 98/100\n",
            "3/3 [==============================] - 0s 177ms/step - loss: 0.5602 - accuracy: 0.2300 - val_loss: 0.4793 - val_accuracy: 0.7800\n",
            "Epoch 99/100\n",
            "3/3 [==============================] - 0s 175ms/step - loss: 0.5586 - accuracy: 0.3550 - val_loss: 0.4863 - val_accuracy: 0.8800\n",
            "Epoch 100/100\n",
            "3/3 [==============================] - 0s 160ms/step - loss: 0.5553 - accuracy: 0.2700 - val_loss: 0.4854 - val_accuracy: 0.9000\n"
          ]
        }
      ],
      "source": [
        "\n",
        "hist = model.fit(X_train, y_train, validation_data=(X_test, y_test), epochs=100, batch_size=80)\n",
        "#hist = model.fit(X_image, Y_input, validation_data=(test_image, test_input), epochs=100, batch_size=80)"
      ]
    },
    {
      "cell_type": "code",
      "execution_count": 33,
      "metadata": {
        "id": "S1f2ftBoTyGS",
        "colab": {
          "base_uri": "https://localhost:8080/",
          "height": 319
        },
        "outputId": "1e9a663a-37fa-4694-c742-86f7ba400532"
      },
      "outputs": [
        {
          "output_type": "execute_result",
          "data": {
            "text/plain": [
              "[]"
            ]
          },
          "metadata": {},
          "execution_count": 33
        },
        {
          "output_type": "display_data",
          "data": {
            "text/plain": [
              "<Figure size 432x288 with 1 Axes>"
            ],
            "image/png": "[encoded data removed]"
          },
          "metadata": {}
        }
      ],
      "source": [
        "import seaborn as sns\n",
        "import matplotlib.pyplot as plt\n",
        "%matplotlib inline\n",
        "\n",
        "sns.set()\n",
        "acc = hist.history['accuracy']\n",
        "val = hist.history['val_accuracy']\n",
        "epochs = range(1, len(acc) + 1)\n",
        "\n",
        "plt.plot(epochs, acc, '-', label='Training accuracy')\n",
        "plt.plot(epochs, val, ':', label='Validation accuracy')\n",
        "plt.title('Training and Validation Accuracy')\n",
        "plt.xlabel('Epoch')\n",
        "plt.ylabel('Accuracy')\n",
        "plt.legend(loc='lower right')\n",
        "plt.plot()"
      ]
    },
    {
      "cell_type": "code",
      "source": [
        "from sklearn.metrics import confusion_matrix\n",
        "y_predicted = model.predict(X_test) > 0.5\n",
        "#mat = confusion_matrix(y_test, y_predicted)\n",
        "mat = confusion_matrix(np.asarray(y_test).argmax(axis=1), np.asarray(y_predicted).argmax(axis=1))\n",
        "labels_input=list(y_training_data.columns)\n",
        "labels = labels_input"
      ],
      "metadata": {
        "id": "9PQABrDOgC2P"
      },
      "execution_count": 36,
      "outputs": []
    },
    {
      "cell_type": "code",
      "source": [
        "ax= plt.subplot()\n",
        "sns.heatmap(mat, annot=True, fmt='g', ax=ax);  #annot=True to annotate cells, ftm='g' to disable scientific notation\n",
        "# labels, title and ticks\n",
        "ax.set_xlabel('Predicted labels');ax.set_ylabel('True labels'); \n",
        "ax.set_title('Confusion Matrix'); \n",
        "ax.xaxis.set_ticklabels(labels); ax.yaxis.set_ticklabels(labels);"
      ],
      "metadata": {
        "colab": {
          "base_uri": "https://localhost:8080/",
          "height": 301
        },
        "id": "dNTilYJuhDVG",
        "outputId": "c7e569d8-f13b-4c76-e69f-ee6905e6f342"
      },
      "execution_count": 43,
      "outputs": [
        {
          "output_type": "display_data",
          "data": {
            "text/plain": [
              "<Figure size 432x288 with 2 Axes>"
            ],
            "image/png": "[encoded data removed]"
          },
          "metadata": {}
        }
      ]
    },
    {
      "cell_type": "code",
      "source": [
        "sns.heatmap(mat, square=True, annot=True, fmt='d', cbar=False, cmap='Blues',xticklabels=labels, yticklabels=labels)\n",
        "plt.xlabel('Predicted label')\n",
        "plt.ylabel('Actual label')"
      ],
      "metadata": {
        "colab": {
          "base_uri": "https://localhost:8080/",
          "height": 310
        },
        "id": "UrZmFrTXd3XZ",
        "outputId": "3461c935-728c-4b53-e232-5c7cf04661df"
      },
      "execution_count": 42,
      "outputs": [
        {
          "output_type": "execute_result",
          "data": {
            "text/plain": [
              "Text(89.18, 0.5, 'Actual label')"
            ]
          },
          "metadata": {},
          "execution_count": 42
        },
        {
          "output_type": "display_data",
          "data": {
            "text/plain": [
              "<Figure size 432x288 with 1 Axes>"
            ],
            "image/png": "[encoded data removed]"
          },
          "metadata": {}
        }
      ]
    },
    {
      "cell_type": "code",
      "source": [
        ""
      ],
      "metadata": {
        "id": "DPnieawIhB2f"
      },
      "execution_count": null,
      "outputs": []
    },
    {
      "cell_type": "code",
      "source": [
        ""
      ],
      "metadata": {
        "id": "CnwBPcqNeJ9Q"
      },
      "execution_count": null,
      "outputs": []
    }
  ],
  "metadata": {
    "kernelspec": {
      "display_name": "Python 3",
      "language": "python",
      "name": "python3"
    },
    "language_info": {
      "codemirror_mode": {
        "name": "ipython",
        "version": 3
      },
      "file_extension": ".py",
      "mimetype": "text/x-python",
      "name": "python",
      "nbconvert_exporter": "python",
      "pygments_lexer": "ipython3",
      "version": "3.7.9"
    },
    "colab": {
      "name": "3-Training-model-keras.ipynb",
      "provenance": [],
      "collapsed_sections": [],
      "include_colab_link": true
    },
    "accelerator": "GPU"
  },
  "nbformat": 4,
  "nbformat_minor": 0
}