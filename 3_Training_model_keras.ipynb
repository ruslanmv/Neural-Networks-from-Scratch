{
  "cells": [
    {
      "cell_type": "markdown",
      "metadata": {
        "id": "view-in-github",
        "colab_type": "text"
      },
      "source": [
        "<a href=\"https://colab.research.google.com/github/ruslanmv/Neural-Networks-from-Scratch/blob/master/3_Training_model_keras.ipynb\" target=\"_parent\"><img src=\"https://colab.research.google.com/assets/colab-badge.svg\" alt=\"Open In Colab\"/></a>"
      ]
    },
    {
      "cell_type": "code",
      "execution_count": 20,
      "metadata": {
        "id": "qFbdnshZTyGK"
      },
      "outputs": [],
      "source": [
        "#Importing library\n",
        "# Neural Networks\n",
        "import keras\n",
        "from keras.models import Sequential\n",
        "from keras.layers import Dense, Activation, Dropout, Flatten, Conv2D, MaxPooling2D\n",
        "import numpy as np\n",
        "from tensorflow.keras.layers import BatchNormalization\n",
        "from tensorflow.keras.optimizers import SGD"
      ]
    },
    {
      "cell_type": "code",
      "execution_count": 13,
      "metadata": {
        "id": "Jl6DbuPbTyGM"
      },
      "outputs": [],
      "source": [
        "#Helper functions about mmorpg-ai project\n",
        "import pandas as pd\n",
        "from sklearn.model_selection import train_test_split\n",
        "import numpy as np\n",
        "import io\n",
        "from IPython.display import clear_output, Image, display\n",
        "import PIL.Image\n",
        "from matplotlib import pyplot as plt\n",
        "import logging, sys\n",
        "logging.disable(sys.maxsize)\n",
        "import os\n",
        "\n",
        "def df_to_numpy_image(df_image_clean,index):\n",
        "    #select the row with index label 'index'\n",
        "    image_clean=df_image_clean.loc[[index]].T.to_numpy()\n",
        "    lists =image_clean.tolist()\n",
        "    # Nested List Comprehension to flatten a given 2-D matrix\n",
        "    # 2-D List\n",
        "    matrix = lists\n",
        "    flatten_matrix = [val.tolist() for sublist in matrix for val in sublist]\n",
        "    # converting list to array\n",
        "    arr = np.array(flatten_matrix)\n",
        "    return arr\n",
        "def df_to_numpy_input(df_input,index): \n",
        "    # flattening a 2d numpy array\n",
        "    # into 1d array\n",
        "    # and remove dtype at the end of numpy array\n",
        "    lista=df_input.loc[[index]].values.tolist()\n",
        "    arr=np.array(lista).ravel()\n",
        "    return arr\n",
        "#round a float up to next even number\n",
        "import math\n",
        "def roundeven(f):\n",
        "    return math.ceil(f / 2.) * 2\n"
      ]
    },
    {
      "cell_type": "code",
      "execution_count": 14,
      "metadata": {
        "id": "3PKWlUVSTyGN"
      },
      "outputs": [],
      "source": [
        "#We define the parameters\n",
        "width= 480\n",
        "height= 270\n",
        "ncolors=3\n",
        "#Normalization Parameter\n",
        "Norma        = 29/1000\n",
        "#Paramters                          Operation \n",
        "filters1     =  roundeven(96*Norma)   #1\n",
        "kernel1      =  11       \n",
        "stride1      =  4\n",
        "kernel2      =  3                     #2\n",
        "stride2      =  2\n",
        "filters3     =  roundeven(256*Norma)  #3\n",
        "kernel3      =  5\n",
        "kernel4      =  3                     #4\n",
        "stride4      =  2\n",
        "filters5     =  roundeven(384*Norma)  #5\n",
        "kernel5      =  3\n",
        "filters6     =  roundeven(384*Norma)  #6\n",
        "kernel6      =  3\n",
        "filters7     =  roundeven(256*Norma)  #7\n",
        "kernel7      =  3\n",
        "kernel8      =  3                      #8\n",
        "stride8      =  2 \n",
        "activation9  =  roundeven(4096*Norma)  #9\n",
        "activation10 =  roundeven(4096*Norma)  #10\n",
        "outputs11    =  int(1000*Norma)   #11\n",
        "dropout13=0.5\n",
        "dropout15=0.5\n",
        "learning_rate17=0.001"
      ]
    },
    {
      "cell_type": "code",
      "execution_count": 15,
      "metadata": {
        "id": "jTPq-dQxTyGO"
      },
      "outputs": [],
      "source": [
        "# fix random seed for reproducibility\n",
        "seed = 7\n",
        "np.random.seed(seed)"
      ]
    },
    {
      "cell_type": "code",
      "execution_count": 16,
      "metadata": {
        "id": "M_9YFNC2TyGO",
        "colab": {
          "base_uri": "https://localhost:8080/"
        },
        "outputId": "26f41a3a-2754-4c09-c91d-bba20068961d"
      },
      "outputs": [
        {
          "output_type": "stream",
          "name": "stdout",
          "text": [
            "Cloning into 'Neural-Networks-from-Scratch'...\n",
            "remote: Enumerating objects: 157, done.\u001b[K\n",
            "remote: Counting objects: 100% (73/73), done.\u001b[K\n",
            "remote: Compressing objects: 100% (57/57), done.\u001b[K\n",
            "remote: Total 157 (delta 44), reused 37 (delta 16), pack-reused 84\u001b[K\n",
            "Receiving objects: 100% (157/157), 317.30 MiB | 30.52 MiB/s, done.\n",
            "Resolving deltas: 100% (69/69), done.\n",
            "Checking out files: 100% (48/48), done.\n"
          ]
        }
      ],
      "source": [
        "#We load the datasets to work\n",
        "import os\n",
        "user = \"ruslanmv\"\n",
        "repo = \"Neural-Networks-from-Scratch\"\n",
        "# remove local directory if it already exists\n",
        "if os.path.isdir(repo):\n",
        "    !rm -rf {repo}\n",
        "!git clone https://github.com/{user}/{repo}.git"
      ]
    },
    {
      "cell_type": "code",
      "source": [
        "import os\n",
        "os.chdir('Neural-Networks-from-Scratch')"
      ],
      "metadata": {
        "id": "scUP5MaqUcr_"
      },
      "execution_count": 8,
      "outputs": []
    },
    {
      "cell_type": "code",
      "source": [
        "!ls /content/Neural-Networks-from-Scratch/data\n"
      ],
      "metadata": {
        "colab": {
          "base_uri": "https://localhost:8080/"
        },
        "id": "MWj6Lm-iUiqI",
        "outputId": "e9cc1916-8bce-4634-80f3-823d6e996d72"
      },
      "execution_count": 17,
      "outputs": [
        {
          "output_type": "stream",
          "name": "stdout",
          "text": [
            "dfx-0.pkl  dfx-1.pkl  dfx-2.pkl  dfy-0.pkl  dfy-1.pkl  dfy-2.pkl\n"
          ]
        }
      ]
    },
    {
      "cell_type": "code",
      "execution_count": 22,
      "metadata": {
        "id": "ONKK1E9CTyGP"
      },
      "outputs": [],
      "source": [
        "# Function to create model MmoNet\n",
        "def create_model(optimizer='adam',learn_rate=0.1, momentum=0):\n",
        "    # create model\n",
        "    MmoNet = Sequential()\n",
        "    MmoNet.add(Conv2D(filters=filters1, input_shape=(height, width, ncolors), kernel_size=(11,11), strides=(stride1,stride1), padding='same'))\n",
        "    MmoNet.add(BatchNormalization())\n",
        "    MmoNet.add(Activation('relu'))\n",
        "    MmoNet.add(MaxPooling2D(pool_size=(kernel2,kernel2), strides=(stride2,stride2), padding='same'))\n",
        "    MmoNet.add(Conv2D(filters=filters3, kernel_size=(kernel3, kernel3), padding='same'))\n",
        "    MmoNet.add(BatchNormalization())\n",
        "    MmoNet.add(Activation('relu'))\n",
        "    MmoNet.add(MaxPooling2D(pool_size=(kernel4,kernel4), strides=(stride4,stride4), padding='same'))\n",
        "    #3rd Convolutional Layer\n",
        "    MmoNet.add(Conv2D(filters=filters5, kernel_size=(kernel5,kernel5), padding='same'))\n",
        "    MmoNet.add(BatchNormalization())\n",
        "    MmoNet.add(Activation('relu'))\n",
        "    #4th Convolutional Layer\n",
        "    MmoNet.add(Conv2D(filters=filters6, kernel_size=( kernel6, kernel6), padding='same'))\n",
        "    MmoNet.add(BatchNormalization())\n",
        "    MmoNet.add(Activation('relu'))\n",
        "    #5th Convolutional Layer\n",
        "    MmoNet.add(Conv2D(filters=filters7, kernel_size=(kernel7,kernel7),  padding='same'))\n",
        "    MmoNet.add(BatchNormalization())\n",
        "    MmoNet.add(Activation('relu'))\n",
        "    MmoNet.add(MaxPooling2D(pool_size=(kernel8,kernel8), strides=(stride8,stride8), padding='same'))\n",
        "    #Passing it to a Fully Connected layer\n",
        "    MmoNet.add(Flatten())\n",
        "    # 1st Fully Connected Layer\n",
        "    MmoNet.add(Dense(activation9, input_shape=(270, 480, 3,)))\n",
        "    MmoNet.add(BatchNormalization())\n",
        "    MmoNet.add(Activation('relu'))\n",
        "    # Add Dropout to prevent overfitting\n",
        "    MmoNet.add(Dropout(dropout13))\n",
        "    #2nd Fully Connected Layer\n",
        "    MmoNet.add(Dense(activation10))\n",
        "    MmoNet.add(BatchNormalization())\n",
        "    MmoNet.add(Activation('relu'))\n",
        "    #Add Dropout\n",
        "    MmoNet.add(Dropout(dropout15))\n",
        "    #3rd Fully Connected Layer\n",
        "    MmoNet.add(Dense(1000))\n",
        "    MmoNet.add(BatchNormalization())\n",
        "    MmoNet.add(Activation('relu'))\n",
        "    #Add Dropout\n",
        "    MmoNet.add(Dropout(dropout15))\n",
        "    #Output Layer\n",
        "    MmoNet.add(Dense(outputs11))\n",
        "    MmoNet.add(BatchNormalization())\n",
        "    MmoNet.add(Activation('softmax'))\n",
        "\n",
        "    # Compile model\n",
        "    optimizer = SGD(learning_rate=learn_rate, momentum=momentum)\n",
        "    \n",
        "\n",
        "    MmoNet.compile(loss='binary_crossentropy', optimizer=optimizer, metrics=['accuracy'])\n",
        "    return MmoNet"
      ]
    },
    {
      "cell_type": "code",
      "execution_count": 23,
      "metadata": {
        "id": "GDh1oWhKTyGQ"
      },
      "outputs": [],
      "source": [
        "model = create_model()"
      ]
    },
    {
      "cell_type": "code",
      "execution_count": 24,
      "metadata": {
        "id": "DiuFuiXYTyGQ",
        "colab": {
          "base_uri": "https://localhost:8080/"
        },
        "outputId": "d468b4d7-bc35-4619-8619-54d87101a2b1"
      },
      "outputs": [
        {
          "output_type": "stream",
          "name": "stdout",
          "text": [
            "Model: \"sequential_3\"\n",
            "_________________________________________________________________\n",
            " Layer (type)                Output Shape              Param #   \n",
            "=================================================================\n",
            " conv2d_10 (Conv2D)          (None, 68, 120, 4)        1456      \n",
            "                                                                 \n",
            " batch_normalization_18 (Bat  (None, 68, 120, 4)       16        \n",
            " chNormalization)                                                \n",
            "                                                                 \n",
            " activation_18 (Activation)  (None, 68, 120, 4)        0         \n",
            "                                                                 \n",
            " max_pooling2d_6 (MaxPooling  (None, 34, 60, 4)        0         \n",
            " 2D)                                                             \n",
            "                                                                 \n",
            " conv2d_11 (Conv2D)          (None, 34, 60, 8)         808       \n",
            "                                                                 \n",
            " batch_normalization_19 (Bat  (None, 34, 60, 8)        32        \n",
            " chNormalization)                                                \n",
            "                                                                 \n",
            " activation_19 (Activation)  (None, 34, 60, 8)         0         \n",
            "                                                                 \n",
            " max_pooling2d_7 (MaxPooling  (None, 17, 30, 8)        0         \n",
            " 2D)                                                             \n",
            "                                                                 \n",
            " conv2d_12 (Conv2D)          (None, 17, 30, 12)        876       \n",
            "                                                                 \n",
            " batch_normalization_20 (Bat  (None, 17, 30, 12)       48        \n",
            " chNormalization)                                                \n",
            "                                                                 \n",
            " activation_20 (Activation)  (None, 17, 30, 12)        0         \n",
            "                                                                 \n",
            " conv2d_13 (Conv2D)          (None, 17, 30, 12)        1308      \n",
            "                                                                 \n",
            " batch_normalization_21 (Bat  (None, 17, 30, 12)       48        \n",
            " chNormalization)                                                \n",
            "                                                                 \n",
            " activation_21 (Activation)  (None, 17, 30, 12)        0         \n",
            "                                                                 \n",
            " conv2d_14 (Conv2D)          (None, 17, 30, 8)         872       \n",
            "                                                                 \n",
            " batch_normalization_22 (Bat  (None, 17, 30, 8)        32        \n",
            " chNormalization)                                                \n",
            "                                                                 \n",
            " activation_22 (Activation)  (None, 17, 30, 8)         0         \n",
            "                                                                 \n",
            " max_pooling2d_8 (MaxPooling  (None, 9, 15, 8)         0         \n",
            " 2D)                                                             \n",
            "                                                                 \n",
            " flatten_2 (Flatten)         (None, 1080)              0         \n",
            "                                                                 \n",
            " dense_8 (Dense)             (None, 120)               129720    \n",
            "                                                                 \n",
            " batch_normalization_23 (Bat  (None, 120)              480       \n",
            " chNormalization)                                                \n",
            "                                                                 \n",
            " activation_23 (Activation)  (None, 120)               0         \n",
            "                                                                 \n",
            " dropout_6 (Dropout)         (None, 120)               0         \n",
            "                                                                 \n",
            " dense_9 (Dense)             (None, 120)               14520     \n",
            "                                                                 \n",
            " batch_normalization_24 (Bat  (None, 120)              480       \n",
            " chNormalization)                                                \n",
            "                                                                 \n",
            " activation_24 (Activation)  (None, 120)               0         \n",
            "                                                                 \n",
            " dropout_7 (Dropout)         (None, 120)               0         \n",
            "                                                                 \n",
            " dense_10 (Dense)            (None, 1000)              121000    \n",
            "                                                                 \n",
            " batch_normalization_25 (Bat  (None, 1000)             4000      \n",
            " chNormalization)                                                \n",
            "                                                                 \n",
            " activation_25 (Activation)  (None, 1000)              0         \n",
            "                                                                 \n",
            " dropout_8 (Dropout)         (None, 1000)              0         \n",
            "                                                                 \n",
            " dense_11 (Dense)            (None, 29)                29029     \n",
            "                                                                 \n",
            " batch_normalization_26 (Bat  (None, 29)               116       \n",
            " chNormalization)                                                \n",
            "                                                                 \n",
            " activation_26 (Activation)  (None, 29)                0         \n",
            "                                                                 \n",
            "=================================================================\n",
            "Total params: 304,841\n",
            "Trainable params: 302,215\n",
            "Non-trainable params: 2,626\n",
            "_________________________________________________________________\n"
          ]
        }
      ],
      "source": [
        "model.summary()"
      ]
    },
    {
      "cell_type": "code",
      "execution_count": 28,
      "metadata": {
        "id": "MMtF4zN7TyGR"
      },
      "outputs": [],
      "source": [
        "# load dataset\n",
        "#We load the images of the gameplay\n",
        "x_training_data=pd.read_pickle('data/dfx-0.pkl')  \n",
        "#We load the inputs of the of the gameplay\n",
        "y_training_data=pd.read_pickle('data/dfy-0.pkl')  \n",
        "X_train, X_valid, y_train, y_valid = train_test_split(x_training_data, y_training_data, test_size=0.2, random_state=6)\n",
        "# Train Image part ( 4 Dimensional)\n",
        "X_image = np.array([df_to_numpy_image(X_train,i) for i in X_train.index])\n",
        "X=X_image.reshape(-1,width,height,3)\n",
        "#Train Input part ( 1 Dimensional )\n",
        "Y = [df_to_numpy_input(y_train,i) for i in y_train.index]\n",
        "# Test Image part ( 4 Dimensional)\n",
        "test_image = np.array([df_to_numpy_image(X_valid,i) for i in X_valid.index])\n",
        "test_x=test_image.reshape(-1,width,height,3)\n",
        "## Test Input part( 1 Dimensional )\n",
        "test_y = [df_to_numpy_input(y_valid,i) for i in y_valid.index]"
      ]
    },
    {
      "cell_type": "code",
      "source": [
        "X_image.shape\n",
        "\n"
      ],
      "metadata": {
        "colab": {
          "base_uri": "https://localhost:8080/"
        },
        "id": "nQH0vHxlXNeZ",
        "outputId": "94e01042-2fc8-436b-d23e-82c4b5dc3974"
      },
      "execution_count": 31,
      "outputs": [
        {
          "output_type": "execute_result",
          "data": {
            "text/plain": [
              "(200, 270, 480, 3)"
            ]
          },
          "metadata": {},
          "execution_count": 31
        }
      ]
    },
    {
      "cell_type": "code",
      "source": [
        "type(X_image)"
      ],
      "metadata": {
        "colab": {
          "base_uri": "https://localhost:8080/"
        },
        "id": "MAWbMeqyYdjI",
        "outputId": "cc58a2c8-65d8-4d91-9a4d-340c61171631"
      },
      "execution_count": 43,
      "outputs": [
        {
          "output_type": "execute_result",
          "data": {
            "text/plain": [
              "numpy.ndarray"
            ]
          },
          "metadata": {},
          "execution_count": 43
        }
      ]
    },
    {
      "cell_type": "code",
      "source": [
        "Y_input=np.array(Y)"
      ],
      "metadata": {
        "id": "50b_XlCvYnHZ"
      },
      "execution_count": 44,
      "outputs": []
    },
    {
      "cell_type": "code",
      "source": [
        "Y_image.shape"
      ],
      "metadata": {
        "colab": {
          "base_uri": "https://localhost:8080/"
        },
        "id": "Fj25GDwVXxsW",
        "outputId": "a1fbbafa-003d-4635-c042-25e0cb020090"
      },
      "execution_count": 45,
      "outputs": [
        {
          "output_type": "execute_result",
          "data": {
            "text/plain": [
              "(200, 29)"
            ]
          },
          "metadata": {},
          "execution_count": 45
        }
      ]
    },
    {
      "cell_type": "code",
      "source": [
        "test_image.shape"
      ],
      "metadata": {
        "colab": {
          "base_uri": "https://localhost:8080/"
        },
        "id": "5fZApfK6Xx3l",
        "outputId": "a40f2ab9-110b-43d4-8b88-7c122463b93a"
      },
      "execution_count": 47,
      "outputs": [
        {
          "output_type": "execute_result",
          "data": {
            "text/plain": [
              "(50, 270, 480, 3)"
            ]
          },
          "metadata": {},
          "execution_count": 47
        }
      ]
    },
    {
      "cell_type": "code",
      "source": [
        "test_input=np.array(test_y)"
      ],
      "metadata": {
        "id": "ph1KUvHUY33R"
      },
      "execution_count": 48,
      "outputs": []
    },
    {
      "cell_type": "code",
      "source": [
        "test_input.shape"
      ],
      "metadata": {
        "colab": {
          "base_uri": "https://localhost:8080/"
        },
        "id": "HqqwzpvYXyCJ",
        "outputId": "64cde126-1083-4c9c-e08a-81a6784fc57f"
      },
      "execution_count": 50,
      "outputs": [
        {
          "output_type": "execute_result",
          "data": {
            "text/plain": [
              "(50, 29)"
            ]
          },
          "metadata": {},
          "execution_count": 50
        }
      ]
    },
    {
      "cell_type": "code",
      "execution_count": null,
      "metadata": {
        "id": "gTlmrTtpTyGR",
        "colab": {
          "base_uri": "https://localhost:8080/"
        },
        "outputId": "304bba83-bd1d-4f46-e909-eecc0f9e1d98"
      },
      "outputs": [
        {
          "output_type": "stream",
          "name": "stdout",
          "text": [
            "Epoch 1/100\n",
            "3/3 [==============================] - 6s 2s/step - loss: 0.8010 - accuracy: 0.0450 - val_loss: 0.7500 - val_accuracy: 0.0000e+00\n",
            "Epoch 2/100\n",
            "3/3 [==============================] - 6s 2s/step - loss: 0.7978 - accuracy: 0.0350 - val_loss: 0.7387 - val_accuracy: 0.0000e+00\n",
            "Epoch 3/100\n",
            "3/3 [==============================] - 6s 2s/step - loss: 0.7954 - accuracy: 0.0450 - val_loss: 0.7159 - val_accuracy: 0.0000e+00\n",
            "Epoch 4/100\n",
            "3/3 [==============================] - 6s 2s/step - loss: 0.7910 - accuracy: 0.0350 - val_loss: 0.6988 - val_accuracy: 0.0200\n",
            "Epoch 5/100\n",
            "3/3 [==============================] - 6s 2s/step - loss: 0.7883 - accuracy: 0.0350 - val_loss: 0.7005 - val_accuracy: 0.0000e+00\n",
            "Epoch 6/100\n",
            "3/3 [==============================] - 6s 2s/step - loss: 0.7850 - accuracy: 0.0300 - val_loss: 0.6933 - val_accuracy: 0.0000e+00\n",
            "Epoch 7/100\n",
            "3/3 [==============================] - 6s 2s/step - loss: 0.7827 - accuracy: 0.0350 - val_loss: 0.6994 - val_accuracy: 0.0000e+00\n",
            "Epoch 8/100\n",
            "3/3 [==============================] - 6s 2s/step - loss: 0.7796 - accuracy: 0.0300 - val_loss: 0.6888 - val_accuracy: 0.0000e+00\n",
            "Epoch 9/100\n",
            "3/3 [==============================] - 6s 2s/step - loss: 0.7750 - accuracy: 0.0350 - val_loss: 0.6662 - val_accuracy: 0.0200\n",
            "Epoch 10/100\n",
            "3/3 [==============================] - 6s 2s/step - loss: 0.7719 - accuracy: 0.0400 - val_loss: 0.6596 - val_accuracy: 0.0000e+00\n",
            "Epoch 11/100\n",
            "3/3 [==============================] - 6s 2s/step - loss: 0.7701 - accuracy: 0.0550 - val_loss: 0.6575 - val_accuracy: 0.0000e+00\n",
            "Epoch 12/100\n",
            "3/3 [==============================] - 6s 2s/step - loss: 0.7665 - accuracy: 0.0400 - val_loss: 0.6581 - val_accuracy: 0.0000e+00\n",
            "Epoch 13/100\n",
            "3/3 [==============================] - 6s 2s/step - loss: 0.7627 - accuracy: 0.0750 - val_loss: 0.6507 - val_accuracy: 0.0000e+00\n",
            "Epoch 14/100\n",
            "3/3 [==============================] - 6s 2s/step - loss: 0.7593 - accuracy: 0.0300 - val_loss: 0.6526 - val_accuracy: 0.0000e+00\n",
            "Epoch 15/100\n",
            "3/3 [==============================] - 6s 2s/step - loss: 0.7564 - accuracy: 0.0500 - val_loss: 0.6463 - val_accuracy: 0.0000e+00\n",
            "Epoch 16/100\n",
            "3/3 [==============================] - 6s 2s/step - loss: 0.7537 - accuracy: 0.0500 - val_loss: 0.6453 - val_accuracy: 0.0000e+00\n",
            "Epoch 17/100\n",
            "3/3 [==============================] - 6s 2s/step - loss: 0.7500 - accuracy: 0.0300 - val_loss: 0.6483 - val_accuracy: 0.0000e+00\n",
            "Epoch 18/100\n",
            "3/3 [==============================] - 6s 2s/step - loss: 0.7492 - accuracy: 0.0550 - val_loss: 0.6430 - val_accuracy: 0.0000e+00\n",
            "Epoch 19/100\n",
            "3/3 [==============================] - 6s 2s/step - loss: 0.7427 - accuracy: 0.0650 - val_loss: 0.6391 - val_accuracy: 0.0000e+00\n",
            "Epoch 20/100\n",
            "3/3 [==============================] - 6s 2s/step - loss: 0.7392 - accuracy: 0.0600 - val_loss: 0.6471 - val_accuracy: 0.0000e+00\n",
            "Epoch 21/100\n",
            "3/3 [==============================] - 6s 2s/step - loss: 0.7357 - accuracy: 0.0500 - val_loss: 0.6396 - val_accuracy: 0.0000e+00\n",
            "Epoch 22/100\n",
            "3/3 [==============================] - 6s 2s/step - loss: 0.7356 - accuracy: 0.0550 - val_loss: 0.6440 - val_accuracy: 0.0400\n",
            "Epoch 23/100\n",
            "3/3 [==============================] - 6s 2s/step - loss: 0.7306 - accuracy: 0.0900 - val_loss: 0.6373 - val_accuracy: 0.0000e+00\n",
            "Epoch 24/100\n",
            "3/3 [==============================] - 6s 2s/step - loss: 0.7302 - accuracy: 0.0550 - val_loss: 0.6304 - val_accuracy: 0.0000e+00\n",
            "Epoch 25/100\n",
            "3/3 [==============================] - ETA: 0s - loss: 0.7240 - accuracy: 0.0600"
          ]
        }
      ],
      "source": [
        "#hist = model.fit(X_train, y_train, validation_data=(X_test, y_test), epochs=100, batch_size=80)\n",
        "hist = model.fit(X_image, Y_input, validation_data=(test_image, test_input), epochs=100, batch_size=80)"
      ]
    },
    {
      "cell_type": "code",
      "execution_count": null,
      "metadata": {
        "id": "S1f2ftBoTyGS"
      },
      "outputs": [],
      "source": [
        "import seaborn as sns\n",
        "import matplotlib.pyplot as plt\n",
        "%matplotlib inline\n",
        "\n",
        "sns.set()\n",
        "acc = hist.history['accuracy']\n",
        "val = hist.history['val_accuracy']\n",
        "epochs = range(1, len(acc) + 1)\n",
        "\n",
        "plt.plot(epochs, acc, '-', label='Training accuracy')\n",
        "plt.plot(epochs, val, ':', label='Validation accuracy')\n",
        "plt.title('Training and Validation Accuracy')\n",
        "plt.xlabel('Epoch')\n",
        "plt.ylabel('Accuracy')\n",
        "plt.legend(loc='lower right')\n",
        "plt.plot()"
      ]
    }
  ],
  "metadata": {
    "kernelspec": {
      "display_name": "Python 3",
      "language": "python",
      "name": "python3"
    },
    "language_info": {
      "codemirror_mode": {
        "name": "ipython",
        "version": 3
      },
      "file_extension": ".py",
      "mimetype": "text/x-python",
      "name": "python",
      "nbconvert_exporter": "python",
      "pygments_lexer": "ipython3",
      "version": "3.7.9"
    },
    "colab": {
      "name": "3-Training-model-keras.ipynb",
      "provenance": [],
      "collapsed_sections": [],
      "include_colab_link": true
    }
  },
  "nbformat": 4,
  "nbformat_minor": 0
}