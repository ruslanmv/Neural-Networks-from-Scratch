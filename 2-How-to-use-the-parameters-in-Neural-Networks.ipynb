{
 "cells": [
  {
   "cell_type": "markdown",
   "id": "ad7a5211",
   "metadata": {},
   "source": [
    "# How to use the parameters in Neural-Networks\n",
    "\n",
    "\n",
    "Today I will discuss about how to adjust the parameters of the neural networks from unknonwn Neural Networks.\n",
    "\n",
    "\n",
    "\n",
    "In ordering to select the appropiate parameters in a simple Neural Network for example in case of a Convolutional  Neural Network , we should remember the meaning of all the layers and understand the \n",
    "the following parameters:\n",
    "\n",
    "- Activation Shape\n",
    "- Activation Size \n",
    "- Parameters"
   ]
  },
  {
   "cell_type": "markdown",
   "id": "a76edfc4",
   "metadata": {},
   "source": [
    "# Analysis of Neural Networks"
   ]
  },
  {
   "cell_type": "markdown",
   "id": "13f59fb6",
   "metadata": {},
   "source": [
    "To build the neural network, we should know the dimensions of the layers that are include in the network.\n",
    "\n",
    "In this work we will use three types of layers in a convolution\n",
    "- Convolution (CONV)\n",
    "- Pooling  (POOL) \n",
    "- Fully connected (FC)"
   ]
  },
  {
   "cell_type": "markdown",
   "id": "80df4bda",
   "metadata": {},
   "source": [
    "### Parameters in Convolution Neural Networks (CNNs)"
   ]
  },
  {
   "cell_type": "markdown",
   "id": "6cc34b38",
   "metadata": {},
   "source": [
    "To understand better the layers we have to understand the parameters involved in the layers."
   ]
  },
  {
   "cell_type": "markdown",
   "id": "b8656100",
   "metadata": {},
   "source": [
    "Let us define several helper functions that allow us understand how the Neural Networks works and use."
   ]
  },
  {
   "cell_type": "markdown",
   "id": "3a26496a",
   "metadata": {},
   "source": [
    "## Convolution (CONV)"
   ]
  },
  {
   "cell_type": "code",
   "execution_count": 109,
   "id": "f2cf0e1a",
   "metadata": {},
   "outputs": [],
   "source": [
    "def dim_valid_convolution(inputs,  kernel):\n",
    "    '''\n",
    "    input\n",
    "    nh : height\n",
    "    nw : widht\n",
    "    \n",
    "    kernel\n",
    "    fh : filter\n",
    "    fw : filter\n",
    "    '''\n",
    "    nh,nw,= inputs\n",
    "    fh,fw = kernel\n",
    "    return (nh-fh) + 1, (nw-fw) + 1"
   ]
  },
  {
   "cell_type": "code",
   "execution_count": 110,
   "id": "14e2f00b",
   "metadata": {},
   "outputs": [
    {
     "data": {
      "text/plain": [
       "(4, 4)"
      ]
     },
     "execution_count": 110,
     "metadata": {},
     "output_type": "execute_result"
    }
   ],
   "source": [
    "inputs = 6 , 6  # nxn image\n",
    "filters = 3 , 3 # fxf filter\n",
    "dim_valid_convolution( inputs, filters)"
   ]
  },
  {
   "cell_type": "code",
   "execution_count": 117,
   "id": "1776b414",
   "metadata": {},
   "outputs": [],
   "source": [
    "def dim_same_convolution(inputs,  kernel,s,p):\n",
    "    '''\n",
    "    Output size is the same as input size\n",
    "    \n",
    "    input\n",
    "    nh : height\n",
    "    nw : widht\n",
    "    \n",
    "    kernel\n",
    "    fh : filter\n",
    "    fw : filter\n",
    "    '''\n",
    "    nh,nw,= inputs\n",
    "    fh,fw = kernel\n",
    "    return (nh+2*p-fh) + 1, (nw+2*p-fw) + 1"
   ]
  },
  {
   "cell_type": "markdown",
   "id": "02a76cae",
   "metadata": {},
   "source": [
    "We choose pad in a way that the output size is the same as the input size"
   ]
  },
  {
   "cell_type": "code",
   "execution_count": 241,
   "id": "f72c1868",
   "metadata": {},
   "outputs": [],
   "source": [
    "inputs = 6 , 6  # nxn image\n",
    "filters = 3 , 3 # fxf filter\n",
    "stride=1.0    #stride s\n",
    "padding=1.0   # padding s\n",
    "parameters=dim_same_convolution( inputs, filters,stride,padding)\n"
   ]
  },
  {
   "cell_type": "code",
   "execution_count": 248,
   "id": "124fc227",
   "metadata": {},
   "outputs": [],
   "source": [
    "def check_same(inputs,parameters):\n",
    "    #2D\n",
    "    if len(parameters)==2 :\n",
    "        assert parameters[0] == inputs[0] and  parameters[1] ==inputs[1],\"It is not same convolution, please fix the stride or padding for the input\"+str(inputs)+\"and parameters \"+str(parameters)      \n",
    "    #3D    \n",
    "    if len(parameters)==3 :\n",
    "        assert parameters[0][0] == inputs[0] and  parameters[0][1] ==inputs[1],\"It is not same convolution, please fix the stride or padding for the input\"+str(inputs)+\"and parameters \"+str(parameters)"
   ]
  },
  {
   "cell_type": "code",
   "execution_count": 249,
   "id": "e24796c2",
   "metadata": {},
   "outputs": [],
   "source": [
    "check_same(inputs,parameters)"
   ]
  },
  {
   "cell_type": "markdown",
   "id": "0a319d2a",
   "metadata": {},
   "source": [
    "![strided](img/strided.jpg)"
   ]
  },
  {
   "cell_type": "code",
   "execution_count": 51,
   "id": "7c569553",
   "metadata": {
    "scrolled": true
   },
   "outputs": [],
   "source": [
    "def dim_strided_convolution(inputs, kernel ,s,p):\n",
    "    '''\n",
    "    input = (nh, nw)\n",
    "    nh : height\n",
    "    nw : widht\n",
    "    \n",
    "    kernel = (fh, fw)\n",
    "    fh : filter height\n",
    "    fw : filter widht\n",
    "\n",
    "    p : padding\n",
    "    s : stride\n",
    "\n",
    "    '''\n",
    "    nh,nw= inputs\n",
    "    fh,fw= kernel\n",
    "    \n",
    "    \n",
    "    print(\"Activation Shape Strided\")\n",
    "\n",
    "    \n",
    "    return (nh+2*p-fh)/s + 1, (nw+2*p-fw)/s + 1"
   ]
  },
  {
   "cell_type": "code",
   "execution_count": 52,
   "id": "d741a913",
   "metadata": {},
   "outputs": [
    {
     "name": "stdout",
     "output_type": "stream",
     "text": [
      "Activation Shape Strided\n"
     ]
    },
    {
     "data": {
      "text/plain": [
       "(3.0, 3.0)"
      ]
     },
     "execution_count": 52,
     "metadata": {},
     "output_type": "execute_result"
    }
   ],
   "source": [
    "inputs = 7,7  # nxn image\n",
    "kernel = 3,3  # fxf filter\n",
    "stride=2.0    #stride s\n",
    "padding=0.0   # padding s\n",
    "dim_strided_convolution(inputs, kernel ,stride,padding)"
   ]
  },
  {
   "cell_type": "code",
   "execution_count": 53,
   "id": "6437462f",
   "metadata": {},
   "outputs": [],
   "source": [
    "def dim_rgb_convolution(inputs, kernel,stride,padding,filters):\n",
    "    '''\n",
    "    input = (nh, nw, nc)\n",
    "    where \n",
    "    nh: height\n",
    "    nw: widht\n",
    "    nc: channels\n",
    "    \n",
    "    output = (nhl,nwl,ncl)\n",
    "       \n",
    "    nhl = (nh+2*p-fw)/s + 1\n",
    "    nwl = (nw+2*p-fh)/s + 1\n",
    "    ncl = filters\n",
    "    \n",
    "    \n",
    "    where\n",
    "       fw,fh : filter sizes\n",
    "       p : padding\n",
    "       s : stride  \n",
    "    ncl  : filters\n",
    "    \n",
    "    '''\n",
    "    nh,nw,nc = inputs\n",
    "    fh,fw = kernel\n",
    "     \n",
    "    s        = stride\n",
    "    p        = padding\n",
    "    ncl      = filters\n",
    "\n",
    "    nhl = (nh+2*p-fw)/s + 1\n",
    "    nwl = (nw+2*p-fh)/s + 1\n",
    "    output = (int(nhl),int(nwl),int(ncl))\n",
    "    \n",
    "    \n",
    "    \n",
    "    print(\"Activation Shape\")\n",
    "\n",
    "\n",
    "    return output"
   ]
  },
  {
   "cell_type": "markdown",
   "id": "55798a78",
   "metadata": {},
   "source": [
    "Let us define the number of parameters used in each convolution,\n",
    "The paremeters are defined as  ((shape of width of filter x shape of height filter x number of filters in the previous layer+1) x number of filters) "
   ]
  },
  {
   "cell_type": "code",
   "execution_count": 54,
   "id": "8d90c9e0",
   "metadata": {},
   "outputs": [],
   "source": [
    "def nparameters_convolution(inputs, kernel,stride,padding,filters):\n",
    "    '''\n",
    "    input = (nh, nw, nc)\n",
    "    where \n",
    "    nh: height\n",
    "    nw: widht\n",
    "    nc: channels\n",
    "    \n",
    "    activation_shape  = (nhl,nwl,ncl)\n",
    "       \n",
    "    nhl = (nh+2*p-fw)/s + 1\n",
    "    nwl = (nw+2*p-fh)/s + 1\n",
    "    ncl = filters\n",
    "    \n",
    "    \n",
    "    where\n",
    "       fw,fh : filter sizes\n",
    "       p : padding\n",
    "       s : stride  \n",
    "    ncl  : filters\n",
    "    \n",
    "    '''\n",
    "    nh,nw,nc = inputs\n",
    "    fh,fw = kernel\n",
    "     \n",
    "    s        = stride\n",
    "    p        = padding\n",
    "    ncl      = filters\n",
    "    \n",
    "    #activation shape \n",
    "    nhl = (nh+2*p-fw)/s + 1\n",
    "    nwl = (nw+2*p-fh)/s + 1\n",
    "    activation_shape = (int(nhl),int(nwl),int(ncl))\n",
    "    \n",
    "    # activation size\n",
    "    activation_size=int(nhl)*int(nwl)*int(ncl)\n",
    "    \n",
    "    \n",
    "    # number Parameters\n",
    "    nparameters=((fh*fw*nc)+1)*ncl\n",
    "    \n",
    "    print(\"Activation Shape,\", \"Activation Size,\",\"# Parameters\")\n",
    "     \n",
    "    return   activation_shape ,  activation_size, nparameters"
   ]
  },
  {
   "cell_type": "code",
   "execution_count": 55,
   "id": "d389fc4c",
   "metadata": {},
   "outputs": [
    {
     "name": "stdout",
     "output_type": "stream",
     "text": [
      "Activation Shape, Activation Size, # Parameters\n"
     ]
    },
    {
     "data": {
      "text/plain": [
       "((28, 28, 8), 6272, 608)"
      ]
     },
     "execution_count": 55,
     "metadata": {},
     "output_type": "execute_result"
    }
   ],
   "source": [
    "inputs  = 32,32,3  #nw x nh x nc image\n",
    "kernel  = 5,5      #fw x fw  filter\n",
    "stride  = 1.0      #stride s\n",
    "padding = 0.0      #padding p\n",
    "filters = 8       #number of filters ncl\n",
    "\n",
    "\n",
    "\n",
    "nparameters_convolution(inputs, kernel,stride,padding,filters)"
   ]
  },
  {
   "cell_type": "markdown",
   "id": "8934cd63",
   "metadata": {},
   "source": [
    "![convnet](img/convnet.jpg)"
   ]
  },
  {
   "cell_type": "code",
   "execution_count": 56,
   "id": "16e61108",
   "metadata": {},
   "outputs": [
    {
     "name": "stdout",
     "output_type": "stream",
     "text": [
      "Activation Shape\n"
     ]
    },
    {
     "data": {
      "text/plain": [
       "(37, 37, 10)"
      ]
     },
     "execution_count": 56,
     "metadata": {},
     "output_type": "execute_result"
    }
   ],
   "source": [
    "inputs  = 39,39,3  #nw x nh x nc image\n",
    "kernel  = 3,3      #fw x fw  filter\n",
    "stride  = 1.0      #stride s\n",
    "padding = 0.0      #padding p\n",
    "filters = 10       #number of filters ncl\n",
    "\n",
    "dim_rgb_convolution(inputs, kernel,stride,padding,filters)"
   ]
  },
  {
   "cell_type": "markdown",
   "id": "209a6b55",
   "metadata": {},
   "source": [
    "Where  the activation size, considering it’s merely the product of width, height and the number of channels in that layer."
   ]
  },
  {
   "cell_type": "markdown",
   "id": "d323d7cb",
   "metadata": {},
   "source": [
    "The input layer’s shape is (37, 37, 10), the activation size of that layer is 37* 37* 10 = 13690"
   ]
  },
  {
   "cell_type": "code",
   "execution_count": 57,
   "id": "c9fea408",
   "metadata": {},
   "outputs": [
    {
     "data": {
      "text/plain": [
       "13690"
      ]
     },
     "execution_count": 57,
     "metadata": {},
     "output_type": "execute_result"
    }
   ],
   "source": [
    "37* 37* 10 "
   ]
  },
  {
   "cell_type": "code",
   "execution_count": 59,
   "id": "7dc8cede",
   "metadata": {},
   "outputs": [
    {
     "name": "stdout",
     "output_type": "stream",
     "text": [
      "Activation Shape\n"
     ]
    },
    {
     "data": {
      "text/plain": [
       "(17, 17, 20)"
      ]
     },
     "execution_count": 59,
     "metadata": {},
     "output_type": "execute_result"
    }
   ],
   "source": [
    "inputs  = 37,37,10  #nw x nh x nc image\n",
    "kernel  = 5,5      #fw x fw  filter\n",
    "stride  = 2.0      #stride s\n",
    "padding = 0.0      #padding p\n",
    "filters = 20       #number of filters ncl\n",
    "\n",
    "\n",
    "dim_rgb_convolution(inputs, kernel,stride,padding,filters)"
   ]
  },
  {
   "cell_type": "markdown",
   "id": "75cb88d8",
   "metadata": {},
   "source": [
    "The sme happens if we want to calculate the activation size for this convolution. All we have to do is just multiply (17, 17, 20) , i.e 17* 17* 20= 5780 "
   ]
  },
  {
   "cell_type": "code",
   "execution_count": 60,
   "id": "c86653be",
   "metadata": {},
   "outputs": [
    {
     "data": {
      "text/plain": [
       "5780"
      ]
     },
     "execution_count": 60,
     "metadata": {},
     "output_type": "execute_result"
    }
   ],
   "source": [
    "17* 17* 20"
   ]
  },
  {
   "cell_type": "code",
   "execution_count": 62,
   "id": "5c1f5010",
   "metadata": {},
   "outputs": [
    {
     "name": "stdout",
     "output_type": "stream",
     "text": [
      "Activation Shape\n"
     ]
    },
    {
     "data": {
      "text/plain": [
       "(7, 7, 40)"
      ]
     },
     "execution_count": 62,
     "metadata": {},
     "output_type": "execute_result"
    }
   ],
   "source": [
    "inputs  = 17,17,20  #nw x nh x nc image\n",
    "kernel  = 5,5      #fw x fw  filter\n",
    "stride  = 2.0      #stride s\n",
    "padding = 0.0      #padding p\n",
    "filters = 40       #number of filters ncl\n",
    "\n",
    "dim_rgb_convolution(inputs, kernel,stride,padding,filters)"
   ]
  },
  {
   "cell_type": "code",
   "execution_count": 63,
   "id": "f3ddea8f",
   "metadata": {},
   "outputs": [
    {
     "name": "stdout",
     "output_type": "stream",
     "text": [
      "Activation Shape, Activation Size, # Parameters\n"
     ]
    },
    {
     "data": {
      "text/plain": [
       "((7, 7, 40), 1960, 20040)"
      ]
     },
     "execution_count": 63,
     "metadata": {},
     "output_type": "execute_result"
    }
   ],
   "source": [
    "nparameters_convolution(inputs, kernel,stride,padding,filters)"
   ]
  },
  {
   "cell_type": "markdown",
   "id": "b6491364",
   "metadata": {},
   "source": [
    "The number of parameters in a given layer is the count of “learnable”  elements for a filter aka parameters for the filter for that layer. Parameters in general are weights that are learnt during training. They are weight matrices that contribute to model’s predictive power, changed during back-propagation process"
   ]
  },
  {
   "cell_type": "markdown",
   "id": "70554f80",
   "metadata": {},
   "source": [
    "## Pooling (POOL)"
   ]
  },
  {
   "cell_type": "markdown",
   "id": "59a5916a",
   "metadata": {},
   "source": [
    "In the pooling there are the following Hyperparameters:\n",
    "\n",
    "- f: filter size\n",
    "\n",
    "- s: stride\n",
    "- Max or average pooling\n",
    "\n",
    "Given an input with the dimensions\n",
    "\n",
    "$$n_H \\times n_W \\times n_C$$\n",
    "\n",
    "Max or  pooling is has the following dimensions\n",
    "\n",
    "$$ \\frac{n_H+2p-f}{s}+1 \\times \\frac{n_W+2p-f}{s}+1 \\times n_C$$ \n",
    "\n",
    "The numbers of channels remains $$n_C$$\n"
   ]
  },
  {
   "cell_type": "code",
   "execution_count": 90,
   "id": "b11e2c2b",
   "metadata": {},
   "outputs": [],
   "source": [
    "def dim_pool(inputs, kernel,stride,padding):\n",
    "    '''\n",
    "    input = (nh, nw, nc)\n",
    "    where \n",
    "    nh: height\n",
    "    nw: widht\n",
    "    nc: channels\n",
    "    \n",
    "    activation_shape  = (nhl,nwl,ncl)\n",
    "       \n",
    "    nhl = (nh+2*p-fw)/s + 1\n",
    "    nwl = (nw+2*p-fh)/s + 1\n",
    "    ncl = nc\n",
    "    where\n",
    "       fw,fh : filter sizes\n",
    "       p : padding\n",
    "       s : stride     \n",
    "    '''\n",
    "    nh,nw,nc = inputs\n",
    "    fh,fw = kernel\n",
    "     \n",
    "    s        = stride\n",
    "    p        = padding\n",
    "    ncl      = nc\n",
    "\n",
    "    nhl = (nh+2*p-fw)/s + 1\n",
    "    nwl = (nw+2*p-fh)/s + 1\n",
    "    activation_shape = (int(nhl),int(nwl),int(ncl))\n",
    "\n",
    "\n",
    "    # activation size\n",
    "    activation_size=int(nhl)*int(nwl)*int(ncl)\n",
    "    \n",
    "    \n",
    "    # number Parameters\n",
    "    nparameters=0\n",
    "    \n",
    "    print(\"Activation Shape,\", \"Activation Size,\",\"# Parameters\")\n",
    "     \n",
    "    return   activation_shape ,  activation_size, nparameters    \n"
   ]
  },
  {
   "cell_type": "code",
   "execution_count": 91,
   "id": "d9583d64",
   "metadata": {},
   "outputs": [
    {
     "name": "stdout",
     "output_type": "stream",
     "text": [
      "Activation Shape, Activation Size, # Parameters\n"
     ]
    },
    {
     "data": {
      "text/plain": [
       "((3, 3, 5), 45, 0)"
      ]
     },
     "execution_count": 91,
     "metadata": {},
     "output_type": "execute_result"
    }
   ],
   "source": [
    "inputs  = 5,5,5 #nw x nh x nc image\n",
    "kernel  = 3,3      #fw x fw  filter\n",
    "stride  = 1.0      #stride s\n",
    "padding = 0.0      #padding p\n",
    "\n",
    "dim_pool(inputs, kernel,stride,padding)"
   ]
  },
  {
   "cell_type": "code",
   "execution_count": 92,
   "id": "724356c3",
   "metadata": {},
   "outputs": [
    {
     "name": "stdout",
     "output_type": "stream",
     "text": [
      "Activation Shape, Activation Size, # Parameters\n"
     ]
    },
    {
     "data": {
      "text/plain": [
       "((3, 3, 1000), 9000, 0)"
      ]
     },
     "execution_count": 92,
     "metadata": {},
     "output_type": "execute_result"
    }
   ],
   "source": [
    "inputs  = 7,7,1000 #nw x nh x nc image\n",
    "kernel  = 2,2      #fw x fw  filter\n",
    "stride  = 2.0      #stride s\n",
    "padding = 0.0      #padding p\n",
    "\n",
    "\n",
    "dim_pool(inputs, kernel,stride,padding)"
   ]
  },
  {
   "cell_type": "markdown",
   "id": "fdc7dc8c",
   "metadata": {},
   "source": [
    "![convnet](img/lenet5.jpg)"
   ]
  },
  {
   "cell_type": "markdown",
   "id": "455b75b4",
   "metadata": {},
   "source": [
    "The input layer’s shape is (32, 32, 3), the activation size of that layer is 32 * 32 * 3 = 3072."
   ]
  },
  {
   "cell_type": "markdown",
   "id": "693b6b8b",
   "metadata": {},
   "source": [
    "### CONV 1"
   ]
  },
  {
   "cell_type": "code",
   "execution_count": 94,
   "id": "33550862",
   "metadata": {},
   "outputs": [
    {
     "name": "stdout",
     "output_type": "stream",
     "text": [
      "Activation Shape\n"
     ]
    },
    {
     "data": {
      "text/plain": [
       "(28, 28, 8)"
      ]
     },
     "execution_count": 94,
     "metadata": {},
     "output_type": "execute_result"
    }
   ],
   "source": [
    "inputs  =32,32,3  #nw x nh x nc image\n",
    "kernel  = 5,5      #fw x fw  filter\n",
    "stride  = 1.0      #stride s\n",
    "padding = 0.0      #padding p\n",
    "filters = 8 #6       #number of filters ncl\n",
    "\n",
    "newinput=dim_rgb_convolution(inputs, kernel,stride,padding,filters)\n",
    "newinput"
   ]
  },
  {
   "cell_type": "markdown",
   "id": "bad4f550",
   "metadata": {},
   "source": [
    "The activation size for CONV1. "
   ]
  },
  {
   "cell_type": "code",
   "execution_count": 95,
   "id": "ee432f50",
   "metadata": {},
   "outputs": [
    {
     "data": {
      "text/plain": [
       "6272"
      ]
     },
     "execution_count": 95,
     "metadata": {},
     "output_type": "execute_result"
    }
   ],
   "source": [
    "28* 28* 8"
   ]
  },
  {
   "cell_type": "markdown",
   "id": "c7285635",
   "metadata": {},
   "source": [
    "Parameters  CONV1"
   ]
  },
  {
   "cell_type": "markdown",
   "id": "f4bc7640",
   "metadata": {},
   "source": [
    "```\n",
    "((fw x fw *nc +1)*ncl)\n",
    "```"
   ]
  },
  {
   "cell_type": "code",
   "execution_count": 96,
   "id": "1de97c93",
   "metadata": {},
   "outputs": [
    {
     "data": {
      "text/plain": [
       "608"
      ]
     },
     "execution_count": 96,
     "metadata": {},
     "output_type": "execute_result"
    }
   ],
   "source": [
    "(((5*5*3)+1)*8) "
   ]
  },
  {
   "cell_type": "code",
   "execution_count": 97,
   "id": "4dc3fe5b",
   "metadata": {},
   "outputs": [
    {
     "name": "stdout",
     "output_type": "stream",
     "text": [
      "Activation Shape, Activation Size, # Parameters\n"
     ]
    },
    {
     "data": {
      "text/plain": [
       "((28, 28, 8), 6272, 608)"
      ]
     },
     "execution_count": 97,
     "metadata": {},
     "output_type": "execute_result"
    }
   ],
   "source": [
    "inputs  =32,32,3  #nw x nh x nc image\n",
    "kernel  = 5,5      #fw x fw  filter\n",
    "stride  = 1.0      #stride s\n",
    "padding = 0.0      #padding p\n",
    "filters = 8       #number of filters ncl\n",
    "\n",
    "nparameters_convolution(inputs, kernel,stride,padding,filters)"
   ]
  },
  {
   "cell_type": "markdown",
   "id": "ba01989f",
   "metadata": {},
   "source": [
    "### POOL 1"
   ]
  },
  {
   "cell_type": "code",
   "execution_count": 98,
   "id": "a3c203e1",
   "metadata": {},
   "outputs": [
    {
     "name": "stdout",
     "output_type": "stream",
     "text": [
      "Activation Shape, Activation Size, # Parameters\n"
     ]
    },
    {
     "data": {
      "text/plain": [
       "((14, 14, 8), 1568, 0)"
      ]
     },
     "execution_count": 98,
     "metadata": {},
     "output_type": "execute_result"
    }
   ],
   "source": [
    "inputs  = 28, 28, 8 #nw x nh x nc \n",
    "kernel  = 2,2     #fw x fw  filter\n",
    "stride  = 2.0      #stride s\n",
    "padding = 0.0      #padding p\n",
    "\n",
    "dim_pool(inputs, kernel,stride,padding)"
   ]
  },
  {
   "cell_type": "markdown",
   "id": "022b7113",
   "metadata": {},
   "source": [
    "The activation size for POOL1. "
   ]
  },
  {
   "cell_type": "code",
   "execution_count": 99,
   "id": "8207508f",
   "metadata": {},
   "outputs": [
    {
     "data": {
      "text/plain": [
       "1568"
      ]
     },
     "execution_count": 99,
     "metadata": {},
     "output_type": "execute_result"
    }
   ],
   "source": [
    "14* 14* 8"
   ]
  },
  {
   "cell_type": "markdown",
   "id": "100f1620",
   "metadata": {},
   "source": [
    "### CONV 2"
   ]
  },
  {
   "cell_type": "code",
   "execution_count": 100,
   "id": "5c39e106",
   "metadata": {},
   "outputs": [
    {
     "name": "stdout",
     "output_type": "stream",
     "text": [
      "Activation Shape\n"
     ]
    },
    {
     "data": {
      "text/plain": [
       "(10, 10, 16)"
      ]
     },
     "execution_count": 100,
     "metadata": {},
     "output_type": "execute_result"
    }
   ],
   "source": [
    "inputs  =14, 14, 8 #nw x nh x nc image\n",
    "kernel  = 5,5      #fw x fw  filter\n",
    "stride  = 1.0      #stride s\n",
    "padding = 0.0      #padding p\n",
    "filters = 16       #number of filters ncl\n",
    "\n",
    "newinput=dim_rgb_convolution(inputs, kernel,stride,padding,filters)\n",
    "newinput"
   ]
  },
  {
   "cell_type": "markdown",
   "id": "e51c4c34",
   "metadata": {},
   "source": [
    "The activation size for CONV2. "
   ]
  },
  {
   "cell_type": "code",
   "execution_count": 101,
   "id": "321a2c44",
   "metadata": {},
   "outputs": [
    {
     "data": {
      "text/plain": [
       "1600"
      ]
     },
     "execution_count": 101,
     "metadata": {},
     "output_type": "execute_result"
    }
   ],
   "source": [
    "10*10*16 "
   ]
  },
  {
   "cell_type": "code",
   "execution_count": 102,
   "id": "1af0720e",
   "metadata": {},
   "outputs": [
    {
     "name": "stdout",
     "output_type": "stream",
     "text": [
      "Activation Shape, Activation Size, # Parameters\n"
     ]
    },
    {
     "data": {
      "text/plain": [
       "((10, 10, 16), 1600, 3216)"
      ]
     },
     "execution_count": 102,
     "metadata": {},
     "output_type": "execute_result"
    }
   ],
   "source": [
    "inputs  =14, 14, 8 #nw x nh x nc image\n",
    "kernel  = 5,5      #fw x fw  filter\n",
    "stride  = 1.0      #stride s\n",
    "padding = 0.0      #padding p\n",
    "filters = 16       #number of filters ncl\n",
    "\n",
    "\n",
    "nparameters_convolution(inputs, kernel,stride,padding,filters)"
   ]
  },
  {
   "cell_type": "markdown",
   "id": "9d3274b8",
   "metadata": {},
   "source": [
    "### POOL 2"
   ]
  },
  {
   "cell_type": "code",
   "execution_count": 103,
   "id": "bd6ddc8c",
   "metadata": {},
   "outputs": [
    {
     "name": "stdout",
     "output_type": "stream",
     "text": [
      "Activation Shape, Activation Size, # Parameters\n"
     ]
    },
    {
     "data": {
      "text/plain": [
       "((5, 5, 16), 400, 0)"
      ]
     },
     "execution_count": 103,
     "metadata": {},
     "output_type": "execute_result"
    }
   ],
   "source": [
    "inputs  = 10, 10, 16 #nw x nh x nc \n",
    "kernel  = 2,2     #fw x fw  filter\n",
    "stride  = 2.0      #stride s\n",
    "padding = 0.0      #padding p\n",
    "\n",
    "dim_pool(inputs, kernel,stride,padding)"
   ]
  },
  {
   "cell_type": "markdown",
   "id": "566cc0f9",
   "metadata": {},
   "source": [
    "The activation size for POOL2. "
   ]
  },
  {
   "cell_type": "code",
   "execution_count": 77,
   "id": "edc8a785",
   "metadata": {},
   "outputs": [
    {
     "data": {
      "text/plain": [
       "400"
      ]
     },
     "execution_count": 77,
     "metadata": {},
     "output_type": "execute_result"
    }
   ],
   "source": [
    "5* 5* 16"
   ]
  },
  {
   "cell_type": "markdown",
   "id": "ce53d2ff",
   "metadata": {},
   "source": [
    "Parameters in general are weights that are learnt during training. They are weight matrices that contribute to model’s predictive power, changed during back-propagation process."
   ]
  },
  {
   "cell_type": "markdown",
   "id": "34c4bf56",
   "metadata": {},
   "source": [
    "###  FULLY CONNECTED LAYER"
   ]
  },
  {
   "cell_type": "markdown",
   "id": "3b0b7d58",
   "metadata": {},
   "source": [
    "To calculate the learnable parameters here, all we have to do is just multiply the by the shape of width hw, height hw, previous layer's filters nc and account for all such filters k in the current layer. Don't forget the bias term for each of the filter."
   ]
  },
  {
   "cell_type": "code",
   "execution_count": 79,
   "id": "937934ec",
   "metadata": {},
   "outputs": [],
   "source": [
    "def nparameters_fully_connected(c , p):\n",
    "    '''\n",
    "    current layer dimension: c\n",
    "    previous layer activation size: p  \n",
    "    '''\n",
    "    \n",
    "    #activation shape \n",
    "    activation_shape = (c,1)\n",
    "    \n",
    "    # activation size\n",
    "    activation_size=c\n",
    "    \n",
    "    \n",
    "    number=(( c *  p)+1 * c) \n",
    "    print(\"Activation Shape,\", \"Activation Size,\",\"# Parameters\")\n",
    "\n",
    "    return activation_shape, activation_size, number    "
   ]
  },
  {
   "cell_type": "markdown",
   "id": "8c09d92b",
   "metadata": {},
   "source": [
    "## FC3"
   ]
  },
  {
   "cell_type": "code",
   "execution_count": 80,
   "id": "337c0716",
   "metadata": {},
   "outputs": [
    {
     "name": "stdout",
     "output_type": "stream",
     "text": [
      "Activation Shape, Activation Size, # Parameters\n"
     ]
    },
    {
     "data": {
      "text/plain": [
       "((120, 1), 120, 48120)"
      ]
     },
     "execution_count": 80,
     "metadata": {},
     "output_type": "execute_result"
    }
   ],
   "source": [
    "nparameters_fully_connected(120 , 400)"
   ]
  },
  {
   "cell_type": "markdown",
   "id": "ab220388",
   "metadata": {},
   "source": [
    "## FC4"
   ]
  },
  {
   "cell_type": "code",
   "execution_count": 81,
   "id": "61740b96",
   "metadata": {},
   "outputs": [
    {
     "name": "stdout",
     "output_type": "stream",
     "text": [
      "Activation Shape, Activation Size, # Parameters\n"
     ]
    },
    {
     "data": {
      "text/plain": [
       "((84, 1), 84, 10164)"
      ]
     },
     "execution_count": 81,
     "metadata": {},
     "output_type": "execute_result"
    }
   ],
   "source": [
    "nparameters_fully_connected(84 , 120)"
   ]
  },
  {
   "cell_type": "markdown",
   "id": "2b7ebcb7",
   "metadata": {},
   "source": [
    "## Softmax"
   ]
  },
  {
   "cell_type": "code",
   "execution_count": 82,
   "id": "c6ade34c",
   "metadata": {},
   "outputs": [
    {
     "name": "stdout",
     "output_type": "stream",
     "text": [
      "Activation Shape, Activation Size, # Parameters\n"
     ]
    },
    {
     "data": {
      "text/plain": [
       "((10, 1), 10, 850)"
      ]
     },
     "execution_count": 82,
     "metadata": {},
     "output_type": "execute_result"
    }
   ],
   "source": [
    "nparameters_fully_connected(10 , 84)"
   ]
  },
  {
   "cell_type": "markdown",
   "id": "9a76f0eb",
   "metadata": {},
   "source": [
    "Up to now we have seen the dimensions of the activation shape, the activation size and the number of parameters. Let us put in practice this knowledge."
   ]
  },
  {
   "cell_type": "markdown",
   "id": "2def0002",
   "metadata": {},
   "source": [
    "# How to use  AlexNet Network"
   ]
  },
  {
   "cell_type": "markdown",
   "id": "52331199",
   "metadata": {},
   "source": [
    "\n",
    "For this project I will take two differnet models of  AlexNet applied to an unknown dataset from the problem given at the [MMORPG-AI](https://github.com/ruslanmv/BOT-MMORPG-AI)\n",
    "\n",
    "The models to analize are:\n",
    "\n",
    "- Non adapted model\n",
    "- Adapted model\n",
    "\n",
    "The **non adapted model** is just take the \"raw\" definition of the AlexNet Network from the standard python code here\n",
    "\n",
    "\n",
    "The **adapted model** is the version where we modify the parameters of the non adapted model in according to the Analysis previous done in this blog.\n"
   ]
  },
  {
   "cell_type": "markdown",
   "id": "46936982",
   "metadata": {},
   "source": [
    "Let us first load the libraries that we need to begin the discussion"
   ]
  },
  {
   "cell_type": "code",
   "execution_count": 86,
   "id": "a6fcd0b4",
   "metadata": {},
   "outputs": [],
   "source": [
    "#Importing Gamepad library\n",
    "from mmorpg import *"
   ]
  },
  {
   "cell_type": "markdown",
   "id": "516b9dfa",
   "metadata": {},
   "source": [
    "The important part is this:"
   ]
  },
  {
   "cell_type": "code",
   "execution_count": 87,
   "id": "4c4d02d6",
   "metadata": {},
   "outputs": [],
   "source": [
    "# We define the size of the pictures\n",
    "WIDTH = 480\n",
    "HEIGHT = 270"
   ]
  },
  {
   "cell_type": "markdown",
   "id": "a7769c1c",
   "metadata": {},
   "source": [
    "We load the data of the project"
   ]
  },
  {
   "cell_type": "code",
   "execution_count": 88,
   "id": "63b71a39",
   "metadata": {},
   "outputs": [],
   "source": [
    "#We load the images of the gameplay\n",
    "x_training_data=pd.read_pickle('data/dfx-0.pkl')  \n",
    "#We load the inputs of the of the gameplay\n",
    "y_training_data=pd.read_pickle('data/dfy-0.pkl')  \n",
    "X_train, X_valid, y_train, y_valid = train_test_split(x_training_data, y_training_data, test_size=0.2, random_state=6)\n",
    "# Train Image part ( 4 Dimensional)\n",
    "X_image = np.array([df_to_numpy_image(X_train,i) for i in X_train.index])\n",
    "X=X_image.reshape(-1,WIDTH,HEIGHT,3)\n",
    "#Train Input part ( 1 Dimensional )\n",
    "Y = [df_to_numpy_input(y_train,i) for i in y_train.index]\n",
    "# Test Image part ( 4 Dimensional)\n",
    "test_image = np.array([df_to_numpy_image(X_valid,i) for i in X_valid.index])\n",
    "test_x=test_image.reshape(-1,WIDTH,HEIGHT,3)\n",
    "## Test Input part( 1 Dimensional )\n",
    "test_y = [df_to_numpy_input(y_valid,i) for i in y_valid.index]\n",
    "  "
   ]
  },
  {
   "cell_type": "markdown",
   "id": "c68faf81",
   "metadata": {},
   "source": [
    "# Alexnet Model - Non adapted model"
   ]
  },
  {
   "cell_type": "markdown",
   "id": "725eb99e",
   "metadata": {},
   "source": [
    "We define the standard AlexNet non adapted"
   ]
  },
  {
   "cell_type": "code",
   "execution_count": 4,
   "id": "fe3526dc",
   "metadata": {},
   "outputs": [],
   "source": [
    "LR = 1e-3\n",
    "MODEL_NAME = 'mmorpg-{}-{}.model'.format(LR, 'alexnet-non-adapted') "
   ]
  },
  {
   "cell_type": "code",
   "execution_count": 5,
   "id": "94b18a4c",
   "metadata": {},
   "outputs": [],
   "source": [
    "def alexnet(width, height, lr, output=29):\n",
    "    # Building 'AlexNet'                                                  #line\n",
    "    network = input_data(shape=[None, width, height, 3])                  #0\n",
    "    network = conv_2d(network, 96, 11, strides=4, activation='relu')      #1\n",
    "    network = max_pool_2d(network, 3, strides=2)                          #2\n",
    "    network = local_response_normalization(network)                       #3\n",
    "    network = conv_2d(network, 256, 5, activation='relu')                 #4\n",
    "    network = max_pool_2d(network, 3, strides=2)                          #5\n",
    "    network = local_response_normalization(network)                       #6\n",
    "    network = conv_2d(network, 384, 3, activation='relu')                 #7\n",
    "    network = conv_2d(network, 384, 3, activation='relu')                 #8\n",
    "    network = conv_2d(network, 256, 3, activation='relu')                 #9\n",
    "    network = max_pool_2d(network, 3, strides=2)                          #10\n",
    "    network = local_response_normalization(network)                       #11\n",
    "    network = fully_connected(network, 4096, activation='tanh')           #12\n",
    "    network = dropout(network, 0.5)                                       #13\n",
    "    network = fully_connected(network, 4096, activation='tanh')           #14\n",
    "    network = dropout(network, 0.5)                                       #15\n",
    "    network = fully_connected(network, 29, activation='softmax')          #16\n",
    "    network = regression(network, optimizer='momentum',                   #17\n",
    "                         loss='categorical_crossentropy',\n",
    "                         learning_rate=0.001)\n",
    "\n",
    "    # Training\n",
    "    model = tflearn.DNN(network, checkpoint_path='model_alexnet',\n",
    "                        max_checkpoints=1, tensorboard_verbose=2, tensorboard_dir='log')\n",
    "\n",
    "    return model"
   ]
  },
  {
   "cell_type": "code",
   "execution_count": 6,
   "id": "470a8fa9",
   "metadata": {},
   "outputs": [],
   "source": [
    "model = alexnet(WIDTH, HEIGHT, LR, output=29)"
   ]
  },
  {
   "cell_type": "markdown",
   "id": "bbf31308",
   "metadata": {},
   "source": [
    "We train the model"
   ]
  },
  {
   "cell_type": "code",
   "execution_count": 7,
   "id": "a50de177",
   "metadata": {},
   "outputs": [
    {
     "name": "stdout",
     "output_type": "stream",
     "text": [
      "Training Step: 15  | total loss: \u001b[1m\u001b[32m1.97406\u001b[0m\u001b[0m | time: 21.022s\n",
      "\u001b[2K\r",
      "| Momentum | epoch: 005 | loss: 1.97406 - acc: 0.4897 -- iter: 180/180\n"
     ]
    }
   ],
   "source": [
    "model.fit(X, Y, n_epoch=5, validation_set=0.1, shuffle=True,\n",
    "              show_metric=True, batch_size=64, snapshot_step=200,\n",
    "              snapshot_epoch=False, run_id=MODEL_NAME)"
   ]
  },
  {
   "cell_type": "markdown",
   "id": "7ceb5fd7",
   "metadata": {},
   "source": [
    "We have seen that the accuracy is less than **0.5** and the loss near to **2.0** . With the knowledge of the dimensions studied before we will adapt the model in appropiate way **to improve** the AlexNet model."
   ]
  },
  {
   "cell_type": "markdown",
   "id": "056c53b1",
   "metadata": {},
   "source": [
    "### Understanding the parameters of AlexNet"
   ]
  },
  {
   "cell_type": "markdown",
   "id": "c753b2ed",
   "metadata": {},
   "source": [
    "The standard AlexNet network may be depicted as the Cousera Deep Learning Course:"
   ]
  },
  {
   "cell_type": "markdown",
   "id": "e6f21199",
   "metadata": {},
   "source": [
    "![AlexNet](img/alex.jpg)"
   ]
  },
  {
   "cell_type": "markdown",
   "id": "e166c7d8",
   "metadata": {},
   "source": [
    "Where we obtain the essential parameters for each of the layers depicted in the previous picture"
   ]
  },
  {
   "cell_type": "markdown",
   "id": "90a74cb1",
   "metadata": {},
   "source": [
    "The inputs of the neural nework in tensorflow is given by\n",
    "```\n",
    "input_data(shape=[None, width, height, 3])                  #0\n",
    "```"
   ]
  },
  {
   "cell_type": "code",
   "execution_count": 273,
   "id": "65b6074f",
   "metadata": {},
   "outputs": [
    {
     "name": "stdout",
     "output_type": "stream",
     "text": [
      "Activation Shape, Activation Size, # Parameters\n"
     ]
    },
    {
     "data": {
      "text/plain": [
       "((55, 55, 96), 290400, 34944)"
      ]
     },
     "execution_count": 273,
     "metadata": {},
     "output_type": "execute_result"
    }
   ],
   "source": [
    "#CONV 1\n",
    "inputs  =227,227,3  #nw x nh x nc image\n",
    "kernel  = 11,11      #fw x fw  filter\n",
    "stride  = 4.0      #stride s\n",
    "padding = 0.0      #padding p\n",
    "filters = 96       #number of filters ncl\n",
    "nparameters_convolution(inputs, kernel,stride,padding,filters)"
   ]
  },
  {
   "cell_type": "markdown",
   "id": "2433cf7f",
   "metadata": {},
   "source": [
    "In TensorFlow this part corresponds to \n",
    "```\n",
    "conv_2d(network, 96, 11, strides=4, activation='relu')      #1\n",
    "```"
   ]
  },
  {
   "cell_type": "code",
   "execution_count": 274,
   "id": "fbad6207",
   "metadata": {},
   "outputs": [
    {
     "name": "stdout",
     "output_type": "stream",
     "text": [
      "Activation Shape, Activation Size, # Parameters\n"
     ]
    },
    {
     "data": {
      "text/plain": [
       "((27, 27, 96), 69984, 0)"
      ]
     },
     "execution_count": 274,
     "metadata": {},
     "output_type": "execute_result"
    }
   ],
   "source": [
    "#POOL1\n",
    "inputs  = 55, 55, 96 #nw x nh x nc \n",
    "kernel  = 3,3     #fw x fw  filter\n",
    "stride  = 2.0      #stride s\n",
    "padding = 0.0      #padding p\n",
    "dim_pool(inputs, kernel,stride,padding)"
   ]
  },
  {
   "cell_type": "markdown",
   "id": "3d27b7ce",
   "metadata": {},
   "source": [
    "In TensorFlow this part corresponds to \n",
    "```\n",
    "max_pool_2d(network, 3, strides=2)                          #2\n",
    "```"
   ]
  },
  {
   "cell_type": "markdown",
   "id": "73451236",
   "metadata": {},
   "source": [
    "After using a pool we can use a normalization\n",
    "```\n",
    "local_response_normalization(network)                       #3\n",
    "```"
   ]
  },
  {
   "cell_type": "code",
   "execution_count": 286,
   "id": "9b1e3d8c",
   "metadata": {},
   "outputs": [
    {
     "name": "stdout",
     "output_type": "stream",
     "text": [
      "Activation Shape, Activation Size, # Parameters\n"
     ]
    },
    {
     "data": {
      "text/plain": [
       "((27, 27, 256), 186624, 614656)"
      ]
     },
     "execution_count": 286,
     "metadata": {},
     "output_type": "execute_result"
    }
   ],
   "source": [
    "#CONVOLUTION SAME 1\n",
    "inputs  =27, 27, 96 #nw x nh x nc image\n",
    "kernel  = 5,5      #fw x fw  filter\n",
    "stride  = 1.0      #stride s\n",
    "padding = 2.0      #padding p\n",
    "filters = 256       #number of filters ncl\n",
    "nparameters_convolution(inputs, kernel,stride,padding,filters)"
   ]
  },
  {
   "cell_type": "markdown",
   "id": "f06a2970",
   "metadata": {},
   "source": [
    "In TensorFlow this part corresponds to:\n",
    "```\n",
    "conv_2d(network, 256, 5, activation='relu')                 #4\n",
    "```"
   ]
  },
  {
   "cell_type": "code",
   "execution_count": 287,
   "id": "25dfef3f",
   "metadata": {},
   "outputs": [
    {
     "name": "stdout",
     "output_type": "stream",
     "text": [
      "Activation Shape, Activation Size, # Parameters\n"
     ]
    },
    {
     "data": {
      "text/plain": [
       "((13, 13, 256), 43264, 0)"
      ]
     },
     "execution_count": 287,
     "metadata": {},
     "output_type": "execute_result"
    }
   ],
   "source": [
    "#POOL2\n",
    "inputs  = 27, 27, 256 #nw x nh x nc \n",
    "kernel  = 3,3     #fw x fw  filter\n",
    "stride  = 2.0      #stride s\n",
    "padding = 0.0      #padding p\n",
    "dim_pool(inputs, kernel,stride,padding)\n"
   ]
  },
  {
   "cell_type": "markdown",
   "id": "5722b036",
   "metadata": {},
   "source": [
    "In TensorFlow this part corresponds to:\n",
    "```\n",
    "max_pool_2d(network, 3, strides=2)                          #5\n",
    "```"
   ]
  },
  {
   "cell_type": "markdown",
   "id": "bd34fec7",
   "metadata": {},
   "source": [
    "After a pool in we use:\n",
    "\n",
    "```\n",
    "local_response_normalization(network)                       #6\n",
    "```"
   ]
  },
  {
   "cell_type": "code",
   "execution_count": 288,
   "id": "b2a48653",
   "metadata": {},
   "outputs": [
    {
     "name": "stdout",
     "output_type": "stream",
     "text": [
      "Activation Shape, Activation Size, # Parameters\n"
     ]
    },
    {
     "data": {
      "text/plain": [
       "((13, 13, 384), 64896, 885120)"
      ]
     },
     "execution_count": 288,
     "metadata": {},
     "output_type": "execute_result"
    }
   ],
   "source": [
    "#CONVOLUTION SAME 2\n",
    "inputs  =13, 13, 256 #nw x nh x nc image\n",
    "kernel  = 3,3      #fw x fw  filter\n",
    "stride  = 1.0      #stride s\n",
    "padding = 1.0      #padding p\n",
    "filters = 384       #number of filters ncl\n",
    "nparameters_convolution(inputs, kernel,stride,padding,filters)"
   ]
  },
  {
   "cell_type": "markdown",
   "id": "83c19eba",
   "metadata": {},
   "source": [
    "In TensorFlow this part corresponds to:\n",
    "```\n",
    "conv_2d(network, 384, 3, activation='relu')                 #7\n",
    "```"
   ]
  },
  {
   "cell_type": "code",
   "execution_count": 289,
   "id": "9af995cd",
   "metadata": {},
   "outputs": [
    {
     "name": "stdout",
     "output_type": "stream",
     "text": [
      "Activation Shape, Activation Size, # Parameters\n"
     ]
    },
    {
     "data": {
      "text/plain": [
       "((13, 13, 384), 64896, 1327488)"
      ]
     },
     "execution_count": 289,
     "metadata": {},
     "output_type": "execute_result"
    }
   ],
   "source": [
    "#CONVOLUTION SAME 3\n",
    "inputs  =13, 13, 384 #nw x nh x nc image\n",
    "kernel  = 3,3      #fw x fw  filter\n",
    "stride  = 1.0      #stride s\n",
    "padding = 1.0      #padding p\n",
    "filters = 384       #number of filters ncl\n",
    "nparameters_convolution(inputs, kernel,stride,padding,filters)"
   ]
  },
  {
   "cell_type": "markdown",
   "id": "26ba2a60",
   "metadata": {},
   "source": [
    "In TensorFlow this part corresponds to:\n",
    "```\n",
    "conv_2d(network, 384, 3, activation='relu')                 #8\n",
    "```"
   ]
  },
  {
   "cell_type": "code",
   "execution_count": 302,
   "id": "5cac80cb",
   "metadata": {},
   "outputs": [
    {
     "name": "stdout",
     "output_type": "stream",
     "text": [
      "Activation Shape, Activation Size, # Parameters\n"
     ]
    },
    {
     "data": {
      "text/plain": [
       "((13, 13, 256), 43264, 884992)"
      ]
     },
     "execution_count": 302,
     "metadata": {},
     "output_type": "execute_result"
    }
   ],
   "source": [
    "#CONVOLUTION SAME 4\n",
    "inputs  =13, 13, 384 #nw x nh x nc image\n",
    "kernel  = 3,3      #fw x fw  filter\n",
    "stride  = 1.0      #stride s\n",
    "padding = 1.0      #padding p\n",
    "filters = 256       #number of filters ncl\n",
    "nparameters_convolution(inputs, kernel,stride,padding,filters)"
   ]
  },
  {
   "cell_type": "markdown",
   "id": "6376835a",
   "metadata": {},
   "source": [
    "In TensorFlow this part corresponds to:\n",
    "```\n",
    "conv_2d(network, 256, 3, activation='relu')                 #9\n",
    "```"
   ]
  },
  {
   "cell_type": "code",
   "execution_count": 301,
   "id": "fcc35704",
   "metadata": {
    "scrolled": true
   },
   "outputs": [
    {
     "name": "stdout",
     "output_type": "stream",
     "text": [
      "Activation Shape, Activation Size, # Parameters\n"
     ]
    },
    {
     "data": {
      "text/plain": [
       "((6, 6, 256), 9216, 0)"
      ]
     },
     "execution_count": 301,
     "metadata": {},
     "output_type": "execute_result"
    }
   ],
   "source": [
    "#POOL3\n",
    "inputs  = 13, 13, 256 #nw x nh x nc \n",
    "kernel  = 3,3     #fw x fw  filter\n",
    "stride  = 2.0      #stride s\n",
    "padding = 0.0      #padding p\n",
    "dim_pool(inputs, kernel,stride,padding)\n"
   ]
  },
  {
   "cell_type": "markdown",
   "id": "b6770cc3",
   "metadata": {},
   "source": [
    "In TensorFlow this part corresponds to:\n",
    "```\n",
    "max_pool_2d(network, 3, strides=2)                          #10\n",
    "```"
   ]
  },
  {
   "cell_type": "markdown",
   "id": "242ab075",
   "metadata": {},
   "source": [
    "After pool we use a normalization\n",
    "```\n",
    "local_response_normalization(network)                       #11\n",
    "```"
   ]
  },
  {
   "cell_type": "code",
   "execution_count": 296,
   "id": "90b235a6",
   "metadata": {},
   "outputs": [
    {
     "name": "stdout",
     "output_type": "stream",
     "text": [
      "Activation Shape, Activation Size, # Parameters\n"
     ]
    },
    {
     "data": {
      "text/plain": [
       "((4096, 1), 4096, 37752832)"
      ]
     },
     "execution_count": 296,
     "metadata": {},
     "output_type": "execute_result"
    }
   ],
   "source": [
    "#FC1\n",
    "nparameters_fully_connected(4096 , 9216)"
   ]
  },
  {
   "cell_type": "markdown",
   "id": "b39d7626",
   "metadata": {},
   "source": [
    "In TensorFlow this part corresponds to:\n",
    "```\n",
    "fully_connected(network, 4096, activation='tanh')           #12\n",
    "```"
   ]
  },
  {
   "cell_type": "markdown",
   "id": "518b9f03",
   "metadata": {},
   "source": [
    "Dropout can be used after convolutional layers (e.g. Conv2D) and after pooling layers (e.g. MaxPooling2D). Often, dropout is only used after the pooling layers, but this is just a rough heuristic. After fully connected layer we use  dropout to avoid overfitting"
   ]
  },
  {
   "cell_type": "markdown",
   "id": "9e622a94",
   "metadata": {},
   "source": [
    "```\n",
    "dropout(network, 0.5)                                       #13\n",
    "```"
   ]
  },
  {
   "cell_type": "code",
   "execution_count": 297,
   "id": "bc995201",
   "metadata": {
    "scrolled": true
   },
   "outputs": [
    {
     "name": "stdout",
     "output_type": "stream",
     "text": [
      "Activation Shape, Activation Size, # Parameters\n"
     ]
    },
    {
     "data": {
      "text/plain": [
       "((4096, 1), 4096, 16781312)"
      ]
     },
     "execution_count": 297,
     "metadata": {},
     "output_type": "execute_result"
    }
   ],
   "source": [
    "#FC2\n",
    "nparameters_fully_connected(4096 , 4096)"
   ]
  },
  {
   "cell_type": "markdown",
   "id": "fa548ff9",
   "metadata": {},
   "source": [
    "In TensorFlow this part corresponds to:\n",
    "```\n",
    "fully_connected(network, 4096, activation='tanh')           #14\n",
    "```"
   ]
  },
  {
   "cell_type": "markdown",
   "id": "2ca5d9a2",
   "metadata": {},
   "source": [
    "After fully connected layer we use dropout \n",
    "```\n",
    "dropout(network, 0.5)                                       #15\n",
    "```"
   ]
  },
  {
   "cell_type": "code",
   "execution_count": 298,
   "id": "7042807c",
   "metadata": {},
   "outputs": [
    {
     "name": "stdout",
     "output_type": "stream",
     "text": [
      "Activation Shape, Activation Size, # Parameters\n"
     ]
    },
    {
     "data": {
      "text/plain": [
       "((1000, 1), 1000, 4097000)"
      ]
     },
     "execution_count": 298,
     "metadata": {},
     "output_type": "execute_result"
    }
   ],
   "source": [
    "#Softmax\n",
    "nparameters_fully_connected(1000 , 4096)"
   ]
  },
  {
   "cell_type": "markdown",
   "id": "71e6a8b5",
   "metadata": {},
   "source": [
    "In TensorFlow this part corresponds to:\n",
    "```\n",
    "fully_connected(network, 29, activation='softmax')          #16\n",
    "```"
   ]
  },
  {
   "cell_type": "markdown",
   "id": "acb458ea",
   "metadata": {},
   "source": [
    "## Full code"
   ]
  },
  {
   "cell_type": "markdown",
   "id": "a052e917",
   "metadata": {},
   "source": [
    "Let us write the parameters Alexnet network in asimple code"
   ]
  },
  {
   "cell_type": "code",
   "execution_count": 303,
   "id": "9eaa8c56",
   "metadata": {},
   "outputs": [
    {
     "name": "stdout",
     "output_type": "stream",
     "text": [
      "Activation Shape, Activation Size, # Parameters\n",
      "Activation Shape, Activation Size, # Parameters\n",
      "Activation Shape, Activation Size, # Parameters\n",
      "Activation Shape, Activation Size, # Parameters\n",
      "Activation Shape, Activation Size, # Parameters\n",
      "Activation Shape, Activation Size, # Parameters\n",
      "Activation Shape, Activation Size, # Parameters\n",
      "Activation Shape, Activation Size, # Parameters\n",
      "Activation Shape, Activation Size, # Parameters\n",
      "Activation Shape, Activation Size, # Parameters\n",
      "Activation Shape, Activation Size, # Parameters\n"
     ]
    }
   ],
   "source": [
    "parameters={}\n",
    "\n",
    "#Input layer\n",
    "parameters[0]=227,227,3\n",
    "\n",
    "#CONV 1\n",
    "inputs  =parameters[0]  #nw x nh x nc image\n",
    "kernel  = 11,11      #fw x fw  filter\n",
    "stride  = 4.0      #stride s\n",
    "padding = 0.0      #padding p\n",
    "filters = 96       #number of filters ncl\n",
    "parameters[1]=nparameters_convolution(inputs, kernel,stride,padding,filters)\n",
    "#POOL1\n",
    "inputs  = parameters[1][0] #nw x nh x nc \n",
    "kernel  = 3,3     #fw x fw  filter\n",
    "stride  = 2.0      #stride s\n",
    "padding = 0.0      #padding p\n",
    "parameters[2]=dim_pool(inputs, kernel,stride,padding)\n",
    "#CONVOLUTION SAME 1\n",
    "inputs  =parameters[2][0] #nw x nh x nc image\n",
    "kernel  = 5,5      #fw x fw  filter\n",
    "stride  = 1.0      #stride s\n",
    "padding = 2.0      #padding p\n",
    "filters = 256       #number of filters ncl\n",
    "parameters[3]=nparameters_convolution(inputs, kernel,stride,padding,filters)\n",
    "check_same(inputs,parameters[3]) # Checking parameters of same convolution\n",
    "\n",
    "#POOL2\n",
    "inputs  = parameters[3][0] #nw x nh x nc \n",
    "kernel  = 3,3     #fw x fw  filter\n",
    "stride  = 2.0      #stride s\n",
    "padding = 0.0      #padding p\n",
    "parameters[4]=dim_pool(inputs, kernel,stride,padding)\n",
    "\n",
    "#CONVOLUTION SAME 2\n",
    "inputs  =parameters[4][0] #nw x nh x nc image\n",
    "kernel  = 3,3      #fw x fw  filter\n",
    "stride  = 1.0      #stride s\n",
    "padding = 1.0      #padding p\n",
    "filters = 384       #number of filters ncl\n",
    "parameters[5]=nparameters_convolution(inputs, kernel,stride,padding,filters)\n",
    "check_same(inputs,parameters[5]) # Checking parameters of same convolution\n",
    "\n",
    "\n",
    "#CONVOLUTION SAME 3\n",
    "inputs  =parameters[5][0] #nw x nh x nc image\n",
    "kernel  = 3,3      #fw x fw  filter\n",
    "stride  = 1.0      #stride s\n",
    "padding = 1.0      #padding p\n",
    "filters = 384       #number of filters ncl\n",
    "parameters[6]=nparameters_convolution(inputs, kernel,stride,padding,filters)\n",
    "check_same(inputs,parameters[6]) # Checking parameters of same convolution\n",
    "\n",
    "\n",
    "#CONVOLUTION SAME 4\n",
    "inputs  =parameters[6][0] #nw x nh x nc image\n",
    "kernel  = 3,3      #fw x fw  filter\n",
    "stride  = 1.0      #stride s\n",
    "padding = 1.0      #padding p\n",
    "filters = 256       #number of filters ncl\n",
    "parameters[7]=nparameters_convolution(inputs, kernel,stride,padding,filters)\n",
    "check_same(inputs,parameters[7]) # Checking parameters of same convolution\n",
    "\n",
    "#POOL3\n",
    "inputs  = parameters[7][0] #nw x nh x nc \n",
    "kernel  = 3,3     #fw x fw  filter\n",
    "stride  = 2.0      #stride s\n",
    "padding = 0.0      #padding p\n",
    "parameters[8]=dim_pool(inputs, kernel,stride,padding)\n",
    "#FC1\n",
    "parameters[9]=nparameters_fully_connected(4096 , parameters[8][1])\n",
    "#FC2\n",
    "parameters[10]=nparameters_fully_connected(parameters[9][1] , parameters[9][1])\n",
    "#Softmax\n",
    "parameters[11]=nparameters_fully_connected(1000 , parameters[10][1])"
   ]
  },
  {
   "cell_type": "code",
   "execution_count": 304,
   "id": "d7fa9249",
   "metadata": {},
   "outputs": [
    {
     "name": "stdout",
     "output_type": "stream",
     "text": [
      "Operation, Activation Shape, Activation Size, #Parameters\n",
      "0 (227, 227, 3)\n",
      "1 ((55, 55, 96), 290400, 34944)\n",
      "2 ((27, 27, 96), 69984, 0)\n",
      "3 ((27, 27, 256), 186624, 614656)\n",
      "4 ((13, 13, 256), 43264, 0)\n",
      "5 ((13, 13, 384), 64896, 885120)\n",
      "6 ((13, 13, 384), 64896, 1327488)\n",
      "7 ((13, 13, 256), 43264, 884992)\n",
      "8 ((6, 6, 256), 9216, 0)\n",
      "9 ((4096, 1), 4096, 37752832)\n",
      "10 ((4096, 1), 4096, 16781312)\n",
      "11 ((1000, 1), 1000, 4097000)\n"
     ]
    }
   ],
   "source": [
    "print(\"Operation,\",\"Activation Shape,\", \"Activation Size,\",\"#Parameters\")\n",
    "for i in range(12):\n",
    "    step=i\n",
    "    layer=parameters[step]\n",
    "    print(step, layer)"
   ]
  },
  {
   "cell_type": "markdown",
   "id": "f52a280a",
   "metadata": {},
   "source": [
    "From the standard framework of the **AlexNet** we see that:\n",
    "\n",
    "The  **original** input pictures have the dimensions of \n",
    "\n",
    "**227x227x3**\n"
   ]
  },
  {
   "cell_type": "markdown",
   "id": "29523f33",
   "metadata": {},
   "source": [
    "and our pictutes in the **MMORPG-AI** project are:\n",
    "\n",
    "**270x 480x3**"
   ]
  },
  {
   "cell_type": "markdown",
   "id": "30e963a7",
   "metadata": {},
   "source": [
    "That means that we have to adapt the template AlexNet model"
   ]
  },
  {
   "cell_type": "code",
   "execution_count": 258,
   "id": "9c6eeafc",
   "metadata": {},
   "outputs": [
    {
     "data": {
      "image/jpeg": "[encoded data removed]",
      "text/plain": [
       "<IPython.core.display.Image object>"
      ]
     },
     "metadata": {},
     "output_type": "display_data"
    },
    {
     "data": {
      "text/plain": [
       "(270, 480, 3)"
      ]
     },
     "execution_count": 258,
     "metadata": {},
     "output_type": "execute_result"
    }
   ],
   "source": [
    "showarray(X_image[0])\n",
    "X_image[0].shape "
   ]
  },
  {
   "cell_type": "markdown",
   "id": "d7ddbda2",
   "metadata": {},
   "source": [
    "We should **modify** al the whole neural network!"
   ]
  },
  {
   "cell_type": "markdown",
   "id": "74f668bb",
   "metadata": {},
   "source": [
    "# Modified version of AlexNet - Adapted version"
   ]
  },
  {
   "cell_type": "markdown",
   "id": "dedd560c",
   "metadata": {},
   "source": [
    "Let us write the parameters Alexnet network in asimple code"
   ]
  },
  {
   "cell_type": "code",
   "execution_count": 305,
   "id": "b3e44173",
   "metadata": {},
   "outputs": [
    {
     "name": "stdout",
     "output_type": "stream",
     "text": [
      "Activation Shape, Activation Size, # Parameters\n",
      "Activation Shape, Activation Size, # Parameters\n",
      "Activation Shape, Activation Size, # Parameters\n",
      "Activation Shape, Activation Size, # Parameters\n",
      "Activation Shape, Activation Size, # Parameters\n",
      "Activation Shape, Activation Size, # Parameters\n",
      "Activation Shape, Activation Size, # Parameters\n",
      "Activation Shape, Activation Size, # Parameters\n",
      "Activation Shape, Activation Size, # Parameters\n",
      "Activation Shape, Activation Size, # Parameters\n",
      "Activation Shape, Activation Size, # Parameters\n"
     ]
    }
   ],
   "source": [
    "parameters={}\n",
    "\n",
    "#Input layer\n",
    "parameters[0]=270,480,3\n",
    "\n",
    "#CONV 1\n",
    "inputs  =parameters[0]  #nw x nh x nc image\n",
    "kernel  = 11,11      #fw x fw  filter\n",
    "stride  = 4.0      #stride s\n",
    "padding = 0.0      #padding p\n",
    "filters = 96       #number of filters ncl\n",
    "parameters[1]=nparameters_convolution(inputs, kernel,stride,padding,filters)\n",
    "#POOL1\n",
    "inputs  = parameters[1][0] #nw x nh x nc \n",
    "kernel  = 3,3     #fw x fw  filter\n",
    "stride  = 2.0      #stride s\n",
    "padding = 0.0      #padding p\n",
    "parameters[2]=dim_pool(inputs, kernel,stride,padding)\n",
    "#CONVOLUTION SAME 1\n",
    "inputs  =parameters[2][0] #nw x nh x nc image\n",
    "kernel  = 5,5      #fw x fw  filter\n",
    "stride  = 1.0      #stride s\n",
    "padding = 2.0      #padding p\n",
    "filters = 256       #number of filters ncl\n",
    "parameters[3]=nparameters_convolution(inputs, kernel,stride,padding,filters)\n",
    "check_same(inputs,parameters[3]) # Checking parameters of same convolution\n",
    "\n",
    "#POOL2\n",
    "inputs  = parameters[3][0] #nw x nh x nc \n",
    "kernel  = 3,3     #fw x fw  filter\n",
    "stride  = 2.0      #stride s\n",
    "padding = 0.0      #padding p\n",
    "parameters[4]=dim_pool(inputs, kernel,stride,padding)\n",
    "\n",
    "#CONVOLUTION SAME 2\n",
    "inputs  =parameters[4][0] #nw x nh x nc image\n",
    "kernel  = 3,3      #fw x fw  filter\n",
    "stride  = 1.0      #stride s\n",
    "padding = 1.0      #padding p\n",
    "filters = 384       #number of filters ncl\n",
    "parameters[5]=nparameters_convolution(inputs, kernel,stride,padding,filters)\n",
    "check_same(inputs,parameters[5]) # Checking parameters of same convolution\n",
    "\n",
    "\n",
    "#CONVOLUTION SAME 3\n",
    "inputs  =parameters[5][0] #nw x nh x nc image\n",
    "kernel  = 3,3      #fw x fw  filter\n",
    "stride  = 1.0      #stride s\n",
    "padding = 1.0      #padding p\n",
    "filters = 384       #number of filters ncl\n",
    "parameters[6]=nparameters_convolution(inputs, kernel,stride,padding,filters)\n",
    "check_same(inputs,parameters[6]) # Checking parameters of same convolution\n",
    "\n",
    "\n",
    "#CONVOLUTION SAME 4\n",
    "inputs  =parameters[6][0] #nw x nh x nc image\n",
    "kernel  = 3,3      #fw x fw  filter\n",
    "stride  = 1.0      #stride s\n",
    "padding = 1.0      #padding p\n",
    "filters = 256       #number of filters ncl\n",
    "parameters[7]=nparameters_convolution(inputs, kernel,stride,padding,filters)\n",
    "check_same(inputs,parameters[7]) # Checking parameters of same convolution\n",
    "\n",
    "#POOL3\n",
    "inputs  = parameters[7][0] #nw x nh x nc \n",
    "kernel  = 3,3     #fw x fw  filter\n",
    "stride  = 2.0      #stride s\n",
    "padding = 0.0      #padding p\n",
    "parameters[8]=dim_pool(inputs, kernel,stride,padding)\n",
    "#FC1\n",
    "parameters[9]=nparameters_fully_connected(4096 , parameters[8][1])\n",
    "#FC2\n",
    "parameters[10]=nparameters_fully_connected(parameters[9][1] , parameters[9][1])\n",
    "#Softmax\n",
    "parameters[11]=nparameters_fully_connected(1000 , parameters[10][1])"
   ]
  },
  {
   "cell_type": "code",
   "execution_count": 306,
   "id": "68160ccf",
   "metadata": {},
   "outputs": [
    {
     "name": "stdout",
     "output_type": "stream",
     "text": [
      "Operation, Activation Shape, Activation Size, #Parameters\n",
      "0 (270, 480, 3)\n",
      "1 ((65, 118, 96), 736320, 34944)\n",
      "2 ((32, 58, 96), 178176, 0)\n",
      "3 ((32, 58, 256), 475136, 614656)\n",
      "4 ((15, 28, 256), 107520, 0)\n",
      "5 ((15, 28, 384), 161280, 885120)\n",
      "6 ((15, 28, 384), 161280, 1327488)\n",
      "7 ((15, 28, 256), 107520, 884992)\n",
      "8 ((7, 13, 256), 23296, 0)\n",
      "9 ((4096, 1), 4096, 95424512)\n",
      "10 ((4096, 1), 4096, 16781312)\n",
      "11 ((1000, 1), 1000, 4097000)\n"
     ]
    }
   ],
   "source": [
    "print(\"Operation,\",\"Activation Shape,\", \"Activation Size,\",\"#Parameters\")\n",
    "for i in range(12):\n",
    "    step=i\n",
    "    layer=parameters[step]\n",
    "    print(step, layer)"
   ]
  },
  {
   "cell_type": "markdown",
   "id": "7c752d49",
   "metadata": {},
   "source": [
    "The previous results shows how we should modify all the layers in an appropiate way if we want to follow the same structure of the AlexNet"
   ]
  },
  {
   "cell_type": "markdown",
   "id": "b2e59db7",
   "metadata": {},
   "source": [
    "First let us define all the parameters of AlexNet defined before.\n",
    "We will consider 14 lines of parameters, defined as:"
   ]
  },
  {
   "cell_type": "code",
   "execution_count": 4,
   "id": "a58aa2fe",
   "metadata": {},
   "outputs": [],
   "source": [
    "parameter1a=96 \n",
    "parameter1b=11\n",
    "parameter1c=4\n",
    "\n",
    "parameter2a=3\n",
    "parameter2b=2\n",
    "\n",
    "\n",
    "parameter3b=3\n",
    "parameter3a=256\n",
    "\n",
    "\n",
    "parameter4a=3\n",
    "parameter4b=2\n",
    "\n",
    "\n",
    "parameter5b=3\n",
    "parameter5a=384\n",
    "\n",
    "parameter6b=3\n",
    "parameter6a=384\n",
    "\n",
    "parameter7b=3\n",
    "parameter7a=256\n",
    "\n",
    "\n",
    "paramter8a=3\n",
    "paramter8b=2\n",
    "\n",
    "parameter9b=4096\n",
    "\n",
    "paramter10a=0.5\n",
    "parameter11a=4096\n",
    "\n",
    "paramter12a=0.5\n",
    "parameter13a=0.001"
   ]
  },
  {
   "cell_type": "code",
   "execution_count": 5,
   "id": "6d643450",
   "metadata": {},
   "outputs": [],
   "source": [
    "def alexnet_adapted(width, height, lr, output=29):\n",
    "    # Building 'AlexNet'\n",
    "    network = input_data(shape=[None, width, height, 3])                                         #0\n",
    "    network = conv_2d(network, parameter1a, parameter1b, strides=parameter1c, activation='relu') #1\n",
    "    network = max_pool_2d(network, parameter2a, strides=parameter2b)                             #2\n",
    "    network = local_response_normalization(network)                  \n",
    "    network = conv_2d(network, parameter3a, parameter3b, activation='relu')                      #3\n",
    "    network = max_pool_2d(network, parameter4a, strides=parameter4b)                             #4\n",
    "    network = local_response_normalization(network)                  \n",
    "    network = conv_2d(network, parameter5a, parameter5b, activation='relu')                      #5\n",
    "    network = conv_2d(network, parameter6a, parameter6b, activation='relu')                      #6\n",
    "    network = conv_2d(network, parameter7a, parameter7b, activation='relu')                      #7\n",
    "    network = max_pool_2d(network, paramter8a, strides=paramter8b)                               #8\n",
    "    network = local_response_normalization(network)                  \n",
    "    network = fully_connected(network, parameter9b, activation='tanh')                           #9\n",
    "    network = dropout(network, paramter10a)                                                      #10\n",
    "    network = fully_connected(network, parameter11a, activation='tanh')                          #11\n",
    "    network = dropout(network, paramter12a)                                                      #12\n",
    "    network = fully_connected(network, 29, activation='softmax')     \n",
    "    network = regression(network, optimizer='momentum',                                          #13\n",
    "                         loss='categorical_crossentropy',\n",
    "                         learning_rate=parameter13a)  \n",
    "\n",
    "    # Training\n",
    "    model = tflearn.DNN(network, checkpoint_path='model_alexnet_adapted',\n",
    "                        max_checkpoints=1, tensorboard_verbose=2, tensorboard_dir='log')\n",
    "\n",
    "    return model"
   ]
  },
  {
   "cell_type": "markdown",
   "id": "ee99c70b",
   "metadata": {},
   "source": [
    "**Learning rate** \n",
    "The learning rate defines how quickly a network updates its parameters.\n",
    "\n",
    "Low learning rate slows down the learning process but converges smoothly. Larger learning rate speeds up the learning but may not converge.\n",
    "\n",
    "Usually a decaying Learning rate is preferred.\n",
    "\n",
    "**Momentum**\n",
    "Momentum helps to know the direction of the next step with the knowledge of the previous steps. It helps to prevent oscillations. A typical choice of momentum is between 0.5 to 0.9.\n",
    "\n",
    "**Number of epochs**\n",
    "Number of epochs is the number of times the whole training data is shown to the network while training.\n",
    "\n",
    "Increase the number of epochs until the validation accuracy starts decreasing even when training accuracy is increasing(overfitting).\n",
    "\n",
    "**Batch size**\n",
    "Mini batch size is the number of sub samples given to the network after which parameter update happens.\n",
    "\n",
    "A good default for batch size might be 32. Also try 32, 64, 128, 256, and so o"
   ]
  },
  {
   "cell_type": "markdown",
   "id": "9c23570d",
   "metadata": {},
   "source": [
    "The adapted version of the AlexNet model does not modify the latest size of the neural net."
   ]
  },
  {
   "cell_type": "code",
   "execution_count": 6,
   "id": "2e066ac7",
   "metadata": {},
   "outputs": [
    {
     "data": {
      "text/plain": [
       "'mmorpg-0.001-alex-adapted.model'"
      ]
     },
     "execution_count": 6,
     "metadata": {},
     "output_type": "execute_result"
    }
   ],
   "source": [
    "LR = 1e-3\n",
    "MODEL_NAME = 'mmorpg-{}-{}.model'.format(LR, 'alex-adapted') \n",
    "MODEL_NAME"
   ]
  },
  {
   "cell_type": "code",
   "execution_count": 7,
   "id": "57f756e7",
   "metadata": {},
   "outputs": [],
   "source": [
    "model = alexnet_adapted(WIDTH, HEIGHT, LR, output=29)"
   ]
  },
  {
   "cell_type": "markdown",
   "id": "ca39569c",
   "metadata": {},
   "source": [
    "We train the modifed  model"
   ]
  },
  {
   "cell_type": "code",
   "execution_count": 9,
   "id": "0dcf7fb9",
   "metadata": {},
   "outputs": [
    {
     "name": "stdout",
     "output_type": "stream",
     "text": [
      "Training Step: 18  | total loss: \u001b[1m\u001b[32m1.88725\u001b[0m\u001b[0m | time: 20.748s\n",
      "\u001b[2K\r",
      "| Momentum | epoch: 006 | loss: 1.88725 - acc: 0.4195 -- iter: 180/180\n"
     ]
    }
   ],
   "source": [
    "model.fit(X, Y, n_epoch=5, validation_set=0.1, shuffle=True,\n",
    "              show_metric=True, batch_size=64, snapshot_step=200,\n",
    "              snapshot_epoch=False, run_id=MODEL_NAME)"
   ]
  },
  {
   "cell_type": "code",
   "execution_count": null,
   "id": "4b2b3e6f",
   "metadata": {},
   "outputs": [],
   "source": []
  }
 ],
 "metadata": {
  "kernelspec": {
   "display_name": "Python (pygta5)",
   "language": "python",
   "name": "pygta5"
  },
  "language_info": {
   "codemirror_mode": {
    "name": "ipython",
    "version": 3
   },
   "file_extension": ".py",
   "mimetype": "text/x-python",
   "name": "python",
   "nbconvert_exporter": "python",
   "pygments_lexer": "ipython3",
   "version": "3.7.0"
  }
 },
 "nbformat": 4,
 "nbformat_minor": 5
}
