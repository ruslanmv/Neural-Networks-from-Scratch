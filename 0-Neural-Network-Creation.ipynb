{
 "cells": [
  {
   "cell_type": "markdown",
   "id": "59839f53",
   "metadata": {},
   "source": [
    "# Creation of the Neural Networks of an unknown Dataset in TensorFlow and analysis with TensorBoard"
   ]
  },
  {
   "cell_type": "markdown",
   "id": "491aad68",
   "metadata": {},
   "source": [
    "Hello everyone today we are going to create a Neural Network by using Tensorflow and we will analize it with TensorBoard. The interesting thing of this post is that I will deal a custom dataset that I dont know a priory which is neural network to use. So I will start writting the program from scratch."
   ]
  },
  {
   "cell_type": "markdown",
   "id": "b4cf03a5",
   "metadata": {},
   "source": [
    "![title](img/genshin.webp)"
   ]
  },
  {
   "cell_type": "markdown",
   "id": "18f32902",
   "metadata": {},
   "source": [
    "What I want to predict are the keys of a gamepad of a gameplay of one videogame"
   ]
  },
  {
   "cell_type": "markdown",
   "id": "da52675c",
   "metadata": {},
   "source": [
    "![](../../assets/images/posts/README/xbox.jpg)"
   ]
  },
  {
   "cell_type": "markdown",
   "id": "e1071b50",
   "metadata": {},
   "source": [
    "<img src=\"img/xbox.jpg\" alt=\"drawing\" width=\"600\"/>"
   ]
  },
  {
   "cell_type": "markdown",
   "id": "18097807",
   "metadata": {},
   "source": [
    "# Installing Libaries"
   ]
  },
  {
   "cell_type": "markdown",
   "id": "9fff0b97",
   "metadata": {},
   "source": [
    "\n",
    "```\n",
    "!pip install tensorboard\n",
    "!pip install jupyter-tensorboard\n",
    "```"
   ]
  },
  {
   "cell_type": "markdown",
   "id": "fc320f61",
   "metadata": {},
   "source": [
    "# Importing Libraries"
   ]
  },
  {
   "cell_type": "code",
   "execution_count": 1,
   "id": "9ab4ce71",
   "metadata": {},
   "outputs": [],
   "source": [
    "import pandas as pd\n",
    "from sklearn.model_selection import train_test_split\n",
    "import numpy as np\n",
    "import io\n",
    "from IPython.display import clear_output, Image, display\n",
    "import PIL.Image\n",
    "from matplotlib import pyplot as plt\n",
    "import logging, sys\n",
    "logging.disable(sys.maxsize)"
   ]
  },
  {
   "cell_type": "code",
   "execution_count": 2,
   "id": "dd545e46",
   "metadata": {},
   "outputs": [],
   "source": [
    "# We define the size of the pictures\n",
    "WIDTH = 480\n",
    "HEIGHT = 270"
   ]
  },
  {
   "cell_type": "markdown",
   "id": "2ae43c13",
   "metadata": {},
   "source": [
    "# Getting the data\n",
    "First you should download the data for this project.\n",
    "The data were obtained from the MMORPG Project here. I will take an small dataset , just for didactical purposes."
   ]
  },
  {
   "cell_type": "code",
   "execution_count": 3,
   "id": "d414208a",
   "metadata": {},
   "outputs": [],
   "source": [
    "#We load the images of the gameplay\n",
    "x_training_data=pd.read_pickle('data/dfx-0.pkl')  \n",
    "#We load the inputs of the of the gameplay\n",
    "y_training_data=pd.read_pickle('data/dfy-0.pkl')  "
   ]
  },
  {
   "cell_type": "code",
   "execution_count": 4,
   "id": "70f478d1",
   "metadata": {},
   "outputs": [
    {
     "data": {
      "text/plain": [
       "(250, 270)"
      ]
     },
     "execution_count": 4,
     "metadata": {},
     "output_type": "execute_result"
    }
   ],
   "source": [
    "x_training_data.shape"
   ]
  },
  {
   "cell_type": "markdown",
   "id": "df7ec0e6",
   "metadata": {},
   "source": [
    "There are 250 pictures with resolutionn WIDTH = 480 and HEIGHT = 270 with 3 colors rgb"
   ]
  },
  {
   "cell_type": "markdown",
   "id": "93813881",
   "metadata": {},
   "source": [
    "We define some helper functions"
   ]
  },
  {
   "cell_type": "code",
   "execution_count": 5,
   "id": "a669cf64",
   "metadata": {},
   "outputs": [],
   "source": [
    "def df_to_numpy_image(df_image_clean,index):\n",
    "    #select the row with index label 'index'\n",
    "    image_clean=df_image_clean.loc[[index]].T.to_numpy()\n",
    "    lists =image_clean.tolist()\n",
    "    # Nested List Comprehension to flatten a given 2-D matrix\n",
    "    # 2-D List\n",
    "    matrix = lists\n",
    "    flatten_matrix = [val.tolist() for sublist in matrix for val in sublist]\n",
    "    # converting list to array\n",
    "    arr = np.array(flatten_matrix)\n",
    "    return arr\n"
   ]
  },
  {
   "cell_type": "code",
   "execution_count": 6,
   "id": "ebcf282f",
   "metadata": {},
   "outputs": [],
   "source": [
    "def df_to_numpy_input(df_input,index): \n",
    "    # flattening a 2d numpy array\n",
    "    # into 1d array\n",
    "    # and remove dtype at the end of numpy array\n",
    "    lista=df_input.loc[[index]].values.tolist()\n",
    "    arr=np.array(lista).ravel()\n",
    "    return arr"
   ]
  },
  {
   "cell_type": "code",
   "execution_count": 7,
   "id": "10d65b51",
   "metadata": {},
   "outputs": [],
   "source": [
    "def showarray(a, fmt='jpeg'):\n",
    "    a_n = np.uint8(np.clip(a, 0, 255))\n",
    "    try :\n",
    "        f = io.BytesIO()\n",
    "        PIL.Image.fromarray(a_n).save(f, fmt)\n",
    "        display(Image(data=f.getvalue()))\n",
    "    except:\n",
    "        #a = a[:, :, ::-1] # convert image from RGB (skimage) to BGR (opencv)\n",
    "        # display image   \n",
    "        plt.imshow(a)\n",
    "        plt.show()  "
   ]
  },
  {
   "cell_type": "code",
   "execution_count": 8,
   "id": "a310c716",
   "metadata": {},
   "outputs": [],
   "source": [
    "def show_actions(X,Y,index_to_select):\n",
    "    dato=[Y[index_to_select]]\n",
    "    columna=['W', 'S', 'A', 'D', 'WA', 'WD', 'SA', 'SD','NOKEY','LT', 'RT', 'Lx', 'Ly', 'Rx', 'Ry', 'UP', 'DOWN', 'LEFT', 'RIGHT',\n",
    "           'START', 'SELECT', 'L3', 'R3', 'LB', 'RB', 'A', 'B', 'X', 'Y']\n",
    "    df_pred = pd.DataFrame(dato,columns=columna)\n",
    "    df_pred_transposed = df_pred.T \n",
    "    print(df_pred_transposed) \n",
    "    showarray(X[index_to_select])"
   ]
  },
  {
   "cell_type": "markdown",
   "id": "e277d9ca",
   "metadata": {},
   "source": [
    "# Creation of train and test split"
   ]
  },
  {
   "cell_type": "code",
   "execution_count": 9,
   "id": "0db8b5fb",
   "metadata": {},
   "outputs": [],
   "source": [
    "X_train, X_valid, y_train, y_valid = train_test_split(x_training_data, y_training_data, test_size=0.2, random_state=6)"
   ]
  },
  {
   "cell_type": "markdown",
   "id": "4ebf599d",
   "metadata": {},
   "source": [
    "Now, the training data and testing data are both labeled datasets. The training data is what we'll fit the neural network with, and the test data is what we're going to use to validate the results. The test data will be \"out of sample,\" meaning the testing data will only be used to test the accuracy of the network, not to train it."
   ]
  },
  {
   "cell_type": "markdown",
   "id": "c1b86cd1",
   "metadata": {},
   "source": [
    "Next, we're going to create our data arrays.\n",
    " \n",
    "Due to we cannot feed value of shape (64, 270, 480, 3) for Tensor input/X:0, which has shape (?, 480, 270, 3) we need to use reshape(-1,WIDTH,HEIGHT,3)"
   ]
  },
  {
   "cell_type": "markdown",
   "id": "229dcb99",
   "metadata": {},
   "source": [
    "**For the train part**"
   ]
  },
  {
   "cell_type": "code",
   "execution_count": 10,
   "id": "ccf72311",
   "metadata": {},
   "outputs": [],
   "source": [
    "# Train Image part ( 4 Dimensional)\n",
    "X_image = np.array([df_to_numpy_image(X_train,i) for i in X_train.index])\n",
    "X=X_image.reshape(-1,WIDTH,HEIGHT,3)\n",
    "\n",
    "#Train Input part ( 1 Dimensional )\n",
    "Y = [df_to_numpy_input(y_train,i) for i in y_train.index]"
   ]
  },
  {
   "cell_type": "markdown",
   "id": "45cbe063",
   "metadata": {},
   "source": [
    "**For the test part**"
   ]
  },
  {
   "cell_type": "code",
   "execution_count": 11,
   "id": "f1c16fe5",
   "metadata": {},
   "outputs": [],
   "source": [
    "# Test Image part ( 4 Dimensional)\n",
    "test_image = np.array([df_to_numpy_image(X_valid,i) for i in X_valid.index])\n",
    "test_x=test_image.reshape(-1,WIDTH,HEIGHT,3)\n",
    "\n",
    "## Test Input part( 1 Dimensional )\n",
    "test_y = [df_to_numpy_input(y_valid,i) for i in y_valid.index]"
   ]
  },
  {
   "cell_type": "code",
   "execution_count": 12,
   "id": "07a588d1",
   "metadata": {},
   "outputs": [
    {
     "name": "stdout",
     "output_type": "stream",
     "text": [
      "You have 200 pictures to train and 50 pictures to test\n"
     ]
    }
   ],
   "source": [
    "print( 'You have ' + str(len(X)) +  \" pictures to train and \" +str(len(test_x))+ \" pictures to test\" )"
   ]
  },
  {
   "cell_type": "markdown",
   "id": "d5c7b0df",
   "metadata": {},
   "source": [
    "Le tus print some outpus that we want to predict:"
   ]
  },
  {
   "cell_type": "code",
   "execution_count": 13,
   "id": "3cc89b8f",
   "metadata": {},
   "outputs": [
    {
     "name": "stdout",
     "output_type": "stream",
     "text": [
      "        0\n",
      "W       0\n",
      "S       0\n",
      "A       0\n",
      "D       0\n",
      "WA      0\n",
      "WD      0\n",
      "SA      0\n",
      "SD      0\n",
      "NOKEY   1\n",
      "LT      0\n",
      "RT      0\n",
      "Lx      0\n",
      "Ly      1\n",
      "Rx      0\n",
      "Ry      0\n",
      "UP      0\n",
      "DOWN    0\n",
      "LEFT    0\n",
      "RIGHT   0\n",
      "START   0\n",
      "SELECT  0\n",
      "L3      0\n",
      "R3      0\n",
      "LB      0\n",
      "RB      0\n",
      "A       0\n",
      "B       0\n",
      "X       0\n",
      "Y       0\n"
     ]
    },
    {
     "data": {
      "image/jpeg": "[encoded data removed]",
      "text/plain": [
       "<IPython.core.display.Image object>"
      ]
     },
     "metadata": {},
     "output_type": "display_data"
    }
   ],
   "source": [
    "show_actions(X_image,Y,0)"
   ]
  },
  {
   "cell_type": "markdown",
   "id": "28f48934",
   "metadata": {},
   "source": [
    "# Neural Network creation"
   ]
  },
  {
   "cell_type": "markdown",
   "id": "90d8cfa1",
   "metadata": {},
   "source": [
    "In ordering to create a Neural Network, we have to foccus mainly into two values that give us an estimation of the quality of our model, is the **accuracy** and the **loss**."
   ]
  },
  {
   "cell_type": "markdown",
   "id": "eff23e96",
   "metadata": {},
   "source": [
    "## Accuracy\n",
    "Accuracy is more straightforward. It measures how well our model predicts by comparing the model predictions with the true values in terms of percentage."
   ]
  },
  {
   "cell_type": "markdown",
   "id": "1bc2c01c",
   "metadata": {},
   "source": [
    "## Loss\n",
    "Loss is a value that represents the summation of errors in our model. It measures how well (or bad) our model is doing. If the errors are high, the loss will be high, which means that the model does not do a good job. Otherwise, the lower it is, the better our model works.\n",
    "\n",
    "The validation loss is greater than the training loss. This usually indicates that the model is overfitting, and cannot generalize on new data."
   ]
  },
  {
   "cell_type": "markdown",
   "id": "f99486a4",
   "metadata": {},
   "source": [
    "<img src=\"img/error.svg\" alt=\"drawing\" width=\"600\"/>\n"
   ]
  },
  {
   "cell_type": "markdown",
   "id": "64dd4803",
   "metadata": {},
   "source": [
    "Let us try to find a Neural network with **High accuracy** and **Low Loss**, it is not easy task!."
   ]
  },
  {
   "cell_type": "markdown",
   "id": "6dd1771e",
   "metadata": {},
   "source": [
    "Next, we're ready to define our neural network:"
   ]
  },
  {
   "cell_type": "markdown",
   "id": "20fddd72",
   "metadata": {},
   "source": [
    "# Convolution Network"
   ]
  },
  {
   "cell_type": "markdown",
   "id": "2861a476",
   "metadata": {},
   "source": [
    "Let us star with something simple."
   ]
  },
  {
   "cell_type": "code",
   "execution_count": 14,
   "id": "8faf64bd",
   "metadata": {},
   "outputs": [],
   "source": [
    "import tflearn\n",
    "from tflearn.layers.conv import conv_2d, max_pool_2d,avg_pool_2d, conv_3d, max_pool_3d, avg_pool_3d\n",
    "from tflearn.layers.core import input_data, dropout, fully_connected\n",
    "from tflearn.layers.estimator import regression\n",
    "from tflearn.layers.normalization import local_response_normalization\n",
    "from tflearn.layers.merge_ops import merge"
   ]
  },
  {
   "cell_type": "code",
   "execution_count": 15,
   "id": "5bcf520f",
   "metadata": {},
   "outputs": [],
   "source": [
    "def conv2d(width, height, lr, output=29):\n",
    "    convnet = input_data(shape=[None, WIDTH, HEIGHT, 3], name='input')\n",
    "    convnet = conv_2d(convnet, 32, 5, activation='relu')\n",
    "    convnet = max_pool_2d(convnet, 5)\n",
    "\n",
    "    convnet = fully_connected(convnet, 1024, activation='relu')\n",
    "    convnet = dropout(convnet, 0.8)\n",
    "\n",
    "    convnet = fully_connected(convnet, 29, activation='softmax')\n",
    "    convnet = regression(convnet, optimizer='adam', learning_rate=LR, loss='categorical_crossentropy', name='targets')\n",
    "    model = tflearn.DNN(convnet, tensorboard_dir='log')\n",
    "    return model"
   ]
  },
  {
   "cell_type": "markdown",
   "id": "772233f2",
   "metadata": {},
   "source": [
    "What we have here is a nice, 29 layered convolutional neural network, with a fully connected layer, and then the output layer.\n",
    "\n"
   ]
  },
  {
   "cell_type": "code",
   "execution_count": 16,
   "id": "f7fa3219",
   "metadata": {},
   "outputs": [
    {
     "data": {
      "text/plain": [
       "'mmorpg-0.001-conv2d.model'"
      ]
     },
     "execution_count": 16,
     "metadata": {},
     "output_type": "execute_result"
    }
   ],
   "source": [
    "LR = 1e-3\n",
    "MODEL_NAME = 'mmorpg-{}-{}.model'.format(LR, 'conv2d') \n",
    "MODEL_NAME"
   ]
  },
  {
   "cell_type": "code",
   "execution_count": 17,
   "id": "6018c25b",
   "metadata": {},
   "outputs": [],
   "source": [
    "model = conv2d(WIDTH, HEIGHT,  LR, output=29)"
   ]
  },
  {
   "cell_type": "markdown",
   "id": "1faef130",
   "metadata": {},
   "source": [
    "Possible Issues if you get RESOURCE_EXHAUSTED.\n",
    "There are multiple things you can do:\n",
    "\n",
    "- Decrease batch size\n",
    "- Decrase model input size\n",
    "- Decrease other model properties such as filter size\n",
    "- Get better hardware\n",
    "\n",
    "You can use numba library to release all the gpu memory\n",
    "\n",
    "```\n",
    "pip install numba \n",
    "from numba import cuda \n",
    "device = cuda.get_current_device()\n",
    "device.reset()\n",
    "```"
   ]
  },
  {
   "cell_type": "code",
   "execution_count": 18,
   "id": "4e3cb3cd",
   "metadata": {},
   "outputs": [
    {
     "name": "stdout",
     "output_type": "stream",
     "text": [
      "Training Step: 15  | total loss: \u001b[1m\u001b[32m45.78939\u001b[0m\u001b[0m | time: 0.667s\n",
      "\u001b[2K\r",
      "| Adam | epoch: 005 | loss: 45.78939 - acc: 0.0000 -- iter: 180/180\n"
     ]
    }
   ],
   "source": [
    "model.fit(X, Y, n_epoch=5, validation_set=0.1, shuffle=True,\n",
    "          show_metric=True, batch_size=64, snapshot_step=200,\n",
    "          snapshot_epoch=False, run_id=MODEL_NAME)"
   ]
  },
  {
   "cell_type": "markdown",
   "id": "734ab619",
   "metadata": {},
   "source": [
    "By analizing this network is overfitting, te loss is huge! so we need create a good network"
   ]
  },
  {
   "cell_type": "markdown",
   "id": "cb4abf4b",
   "metadata": {},
   "source": [
    "# Alexnet Network"
   ]
  },
  {
   "cell_type": "code",
   "execution_count": 14,
   "id": "1c0f79e8",
   "metadata": {},
   "outputs": [],
   "source": [
    "import tflearn\n",
    "from tflearn.layers.core import input_data, dropout, fully_connected\n",
    "from tflearn.layers.conv import conv_2d, max_pool_2d\n",
    "from tflearn.layers.normalization import local_response_normalization\n",
    "from tflearn.layers.estimator import regression"
   ]
  },
  {
   "cell_type": "code",
   "execution_count": 16,
   "id": "c49ad066",
   "metadata": {},
   "outputs": [
    {
     "data": {
      "text/plain": [
       "'mmorpg-0.001-alex0.model'"
      ]
     },
     "execution_count": 16,
     "metadata": {},
     "output_type": "execute_result"
    }
   ],
   "source": [
    "LR = 1e-3\n",
    "MODEL_NAME = 'mmorpg-{}-{}.model'.format(LR, 'alex0') \n",
    "MODEL_NAME"
   ]
  },
  {
   "cell_type": "code",
   "execution_count": 17,
   "id": "eb3667b9",
   "metadata": {},
   "outputs": [],
   "source": [
    "def alexnet(width, height, lr, output=29):\n",
    "    # Building 'AlexNet'\n",
    "    network = input_data(shape=[None, width, height, 3])\n",
    "    network = conv_2d(network, 96, 11, strides=4, activation='relu')\n",
    "    network = max_pool_2d(network, 3, strides=2)\n",
    "    network = local_response_normalization(network)\n",
    "    network = conv_2d(network, 256, 5, activation='relu')\n",
    "    network = max_pool_2d(network, 3, strides=2)\n",
    "    network = local_response_normalization(network)\n",
    "    network = conv_2d(network, 384, 3, activation='relu')\n",
    "    network = conv_2d(network, 384, 3, activation='relu')\n",
    "    network = conv_2d(network, 256, 3, activation='relu')\n",
    "    network = max_pool_2d(network, 3, strides=2)\n",
    "    network = local_response_normalization(network)\n",
    "    network = fully_connected(network, 4096, activation='tanh')\n",
    "    network = dropout(network, 0.5)\n",
    "    network = fully_connected(network, 4096, activation='tanh')\n",
    "    network = dropout(network, 0.5)\n",
    "    network = fully_connected(network, 29, activation='softmax')\n",
    "    network = regression(network, optimizer='momentum',\n",
    "                         loss='categorical_crossentropy',\n",
    "                         learning_rate=0.001)\n",
    "\n",
    "    # Training\n",
    "    model = tflearn.DNN(network, checkpoint_path='model_alexnet',\n",
    "                        max_checkpoints=1, tensorboard_verbose=2, tensorboard_dir='log')\n",
    "\n",
    "    return model"
   ]
  },
  {
   "cell_type": "markdown",
   "id": "a727b389",
   "metadata": {},
   "source": [
    "from numba import cuda \n",
    "device = cuda.get_current_device()\n",
    "device.reset()"
   ]
  },
  {
   "cell_type": "code",
   "execution_count": 18,
   "id": "2f6b7e1a",
   "metadata": {},
   "outputs": [],
   "source": [
    "model = alexnet(WIDTH, HEIGHT, LR, output=29)"
   ]
  },
  {
   "cell_type": "code",
   "execution_count": 19,
   "id": "eff45d12",
   "metadata": {},
   "outputs": [
    {
     "name": "stdout",
     "output_type": "stream",
     "text": [
      "Training Step: 15  | total loss: \u001b[1m\u001b[32m1.90749\u001b[0m\u001b[0m | time: 20.594s\n",
      "\u001b[2K\r",
      "| Momentum | epoch: 005 | loss: 1.90749 - acc: 0.5036 -- iter: 180/180\n"
     ]
    }
   ],
   "source": [
    "model.fit(X, Y, n_epoch=5, validation_set=0.1, shuffle=True,\n",
    "          show_metric=True, batch_size=64, snapshot_step=200,\n",
    "          snapshot_epoch=False, run_id=MODEL_NAME)"
   ]
  },
  {
   "cell_type": "code",
   "execution_count": 20,
   "id": "b76698a3",
   "metadata": {},
   "outputs": [
    {
     "name": "stdout",
     "output_type": "stream",
     "text": [
      "SAVING MODEL!\n"
     ]
    }
   ],
   "source": [
    "print('SAVING MODEL!')\n",
    "model.save(MODEL_NAME)   "
   ]
  },
  {
   "cell_type": "markdown",
   "id": "c84c4453",
   "metadata": {},
   "source": [
    "# Full code 1"
   ]
  },
  {
   "cell_type": "code",
   "execution_count": 2,
   "id": "d36a83ed",
   "metadata": {},
   "outputs": [
    {
     "name": "stdout",
     "output_type": "stream",
     "text": [
      "Training Step: 15  | total loss: \u001b[1m\u001b[32m1.95906\u001b[0m\u001b[0m | time: 21.006s\n",
      "| Momentum | epoch: 005 | loss: 1.95906 - acc: 0.5166 -- iter: 180/180\n",
      "SAVING MODEL!\n"
     ]
    }
   ],
   "source": [
    "import pandas as pd\n",
    "from sklearn.model_selection import train_test_split\n",
    "import numpy as np\n",
    "import io\n",
    "from IPython.display import clear_output, Image, display\n",
    "import PIL.Image\n",
    "from matplotlib import pyplot as plt\n",
    "import logging, sys\n",
    "logging.disable(sys.maxsize)\n",
    "import tflearn\n",
    "from tflearn.layers.core import input_data, dropout, fully_connected\n",
    "from tflearn.layers.conv import conv_2d, max_pool_2d\n",
    "from tflearn.layers.normalization import local_response_normalization\n",
    "from tflearn.layers.estimator import regression\n",
    "import os\n",
    "# We define the size of the pictures\n",
    "WIDTH = 480\n",
    "HEIGHT = 270\n",
    "\n",
    "LR = 1e-3\n",
    "MODEL_NAME = 'mmorpg-{}-{}.model'.format(LR, 'alexnet1') \n",
    "\n",
    "if os.path.exists('{}.meta'.format(MODEL_NAME)):\n",
    "    model.load(MODEL_NAME)\n",
    "    print('model loaded!')\n",
    "\n",
    "#We load the images of the gameplay\n",
    "x_training_data=pd.read_pickle('data/dfx-0.pkl')  \n",
    "#We load the inputs of the of the gameplay\n",
    "y_training_data=pd.read_pickle('data/dfy-0.pkl')  \n",
    "\n",
    "def df_to_numpy_image(df_image_clean,index):\n",
    "    #select the row with index label 'index'\n",
    "    image_clean=df_image_clean.loc[[index]].T.to_numpy()\n",
    "    lists =image_clean.tolist()\n",
    "    # Nested List Comprehension to flatten a given 2-D matrix\n",
    "    # 2-D List\n",
    "    matrix = lists\n",
    "    flatten_matrix = [val.tolist() for sublist in matrix for val in sublist]\n",
    "    # converting list to array\n",
    "    arr = np.array(flatten_matrix)\n",
    "    return arr\n",
    "\n",
    "def df_to_numpy_input(df_input,index): \n",
    "    # flattening a 2d numpy array\n",
    "    # into 1d array\n",
    "    # and remove dtype at the end of numpy array\n",
    "    lista=df_input.loc[[index]].values.tolist()\n",
    "    arr=np.array(lista).ravel()\n",
    "    return arr\n",
    "def alexnet(width, height, lr, output=29):\n",
    "    # Building 'AlexNet'\n",
    "    network = input_data(shape=[None, width, height, 3])\n",
    "    network = conv_2d(network, 96, 11, strides=4, activation='relu')\n",
    "    network = max_pool_2d(network, 3, strides=2)\n",
    "    network = local_response_normalization(network)\n",
    "    network = conv_2d(network, 256, 5, activation='relu')\n",
    "    network = max_pool_2d(network, 3, strides=2)\n",
    "    network = local_response_normalization(network)\n",
    "    network = conv_2d(network, 384, 3, activation='relu')\n",
    "    network = conv_2d(network, 384, 3, activation='relu')\n",
    "    network = conv_2d(network, 256, 3, activation='relu')\n",
    "    network = max_pool_2d(network, 3, strides=2)\n",
    "    network = local_response_normalization(network)\n",
    "    network = fully_connected(network, 4096, activation='tanh')\n",
    "    network = dropout(network, 0.5)\n",
    "    network = fully_connected(network, 4096, activation='tanh')\n",
    "    network = dropout(network, 0.5)\n",
    "    network = fully_connected(network, 29, activation='softmax')\n",
    "    network = regression(network, optimizer='momentum',\n",
    "                         loss='categorical_crossentropy',\n",
    "                         learning_rate=0.001)\n",
    "\n",
    "    # Training\n",
    "    model = tflearn.DNN(network, checkpoint_path='model_alexnet',\n",
    "                        max_checkpoints=1, tensorboard_verbose=2, tensorboard_dir='log')\n",
    "\n",
    "    return model\n",
    "\n",
    "X_train, X_valid, y_train, y_valid = train_test_split(x_training_data, y_training_data, test_size=0.2, random_state=6)\n",
    "\n",
    "# Train Image part ( 4 Dimensional)\n",
    "X_image = np.array([df_to_numpy_image(X_train,i) for i in X_train.index])\n",
    "X=X_image.reshape(-1,WIDTH,HEIGHT,3)\n",
    "\n",
    "#Train Input part ( 1 Dimensional )\n",
    "Y = [df_to_numpy_input(y_train,i) for i in y_train.index]\n",
    "\n",
    "\n",
    "# Test Image part ( 4 Dimensional)\n",
    "test_image = np.array([df_to_numpy_image(X_valid,i) for i in X_valid.index])\n",
    "test_x=test_image.reshape(-1,WIDTH,HEIGHT,3)\n",
    "\n",
    "## Test Input part( 1 Dimensional )\n",
    "test_y = [df_to_numpy_input(y_valid,i) for i in y_valid.index]\n",
    "\n",
    "\n",
    "\n",
    "model = alexnet(WIDTH, HEIGHT, LR, output=29)\n",
    "\n",
    "\n",
    "model.fit(X, Y, n_epoch=5, validation_set=0.1, shuffle=True,\n",
    "          show_metric=True, batch_size=64, snapshot_step=200,\n",
    "          snapshot_epoch=False, run_id=MODEL_NAME)\n",
    "print('SAVING MODEL!')\n",
    "model.save(MODEL_NAME)   "
   ]
  },
  {
   "cell_type": "markdown",
   "id": "5138c7a3",
   "metadata": {},
   "source": [
    "Let us build a more complete program with more data"
   ]
  },
  {
   "cell_type": "markdown",
   "id": "4e417a90",
   "metadata": {},
   "source": [
    "# Full code 2"
   ]
  },
  {
   "cell_type": "code",
   "execution_count": 1,
   "id": "c41cb9f7",
   "metadata": {},
   "outputs": [
    {
     "name": "stdout",
     "output_type": "stream",
     "text": [
      "Training Step: 47  | total loss: \u001b[1m\u001b[32m2.72657\u001b[0m\u001b[0m | time: 20.687s\n",
      "| Momentum | epoch: 012 | loss: 2.72657 - acc: 0.5013 -- iter: 192/200\n",
      "Training Step: 48  | total loss: \u001b[1m\u001b[32m2.24509\u001b[0m\u001b[0m | time: 28.372s\n",
      "| Momentum | epoch: 012 | loss: 2.24509 - acc: 0.5287 | val_loss: -2.46434 - val_acc: 1.0000 -- iter: 200/200\n",
      "--\n"
     ]
    }
   ],
   "source": [
    "import pandas as pd\n",
    "from sklearn.model_selection import train_test_split\n",
    "import numpy as np\n",
    "import io\n",
    "from IPython.display import clear_output, Image, display\n",
    "import PIL.Image\n",
    "from matplotlib import pyplot as plt\n",
    "import logging, sys\n",
    "logging.disable(sys.maxsize)\n",
    "import tflearn\n",
    "from tflearn.layers.core import input_data, dropout, fully_connected\n",
    "from tflearn.layers.conv import conv_2d, max_pool_2d\n",
    "from tflearn.layers.normalization import local_response_normalization\n",
    "from tflearn.layers.estimator import regression\n",
    "\n",
    "# We define the size of the pictures\n",
    "WIDTH = 480\n",
    "HEIGHT = 270\n",
    "LR = 1e-3\n",
    "MODEL_NAME = 'mmorpg-{}-{}.model'.format(LR, 'alexnet2') \n",
    "PREV_MODEL = ''\n",
    "LOAD_MODEL = False\n",
    "FILE_I_END=4\n",
    "EPOCHS=3\n",
    "\n",
    "#We load the images of the gameplay\n",
    "x_training_data=pd.read_pickle('data/dfx-0.pkl')  \n",
    "#We load the inputs of the of the gameplay\n",
    "y_training_data=pd.read_pickle('data/dfy-0.pkl')  \n",
    "\n",
    "def df_to_numpy_image(df_image_clean,index):\n",
    "    #select the row with index label 'index'\n",
    "    image_clean=df_image_clean.loc[[index]].T.to_numpy()\n",
    "    lists =image_clean.tolist()\n",
    "    # Nested List Comprehension to flatten a given 2-D matrix\n",
    "    # 2-D List\n",
    "    matrix = lists\n",
    "    flatten_matrix = [val.tolist() for sublist in matrix for val in sublist]\n",
    "    # converting list to array\n",
    "    arr = np.array(flatten_matrix)\n",
    "    return arr\n",
    "\n",
    "def df_to_numpy_input(df_input,index): \n",
    "    # flattening a 2d numpy array\n",
    "    # into 1d array\n",
    "    # and remove dtype at the end of numpy array\n",
    "    lista=df_input.loc[[index]].values.tolist()\n",
    "    arr=np.array(lista).ravel()\n",
    "    return arr\n",
    "def alexnet(width, height, lr, output=29):\n",
    "    # Building 'AlexNet'\n",
    "    network = input_data(shape=[None, width, height, 3])\n",
    "    network = conv_2d(network, 96, 11, strides=4, activation='relu')\n",
    "    network = max_pool_2d(network, 3, strides=2)\n",
    "    network = local_response_normalization(network)\n",
    "    network = conv_2d(network, 256, 5, activation='relu')\n",
    "    network = max_pool_2d(network, 3, strides=2)\n",
    "    network = local_response_normalization(network)\n",
    "    network = conv_2d(network, 384, 3, activation='relu')\n",
    "    network = conv_2d(network, 384, 3, activation='relu')\n",
    "    network = conv_2d(network, 256, 3, activation='relu')\n",
    "    network = max_pool_2d(network, 3, strides=2)\n",
    "    network = local_response_normalization(network)\n",
    "    network = fully_connected(network, 4096, activation='tanh')\n",
    "    network = dropout(network, 0.5)\n",
    "    network = fully_connected(network, 4096, activation='tanh')\n",
    "    network = dropout(network, 0.5)\n",
    "    network = fully_connected(network, 29, activation='softmax')\n",
    "    network = regression(network, optimizer='momentum',\n",
    "                         loss='categorical_crossentropy',\n",
    "                         learning_rate=0.001)\n",
    "\n",
    "    # Training\n",
    "    model = tflearn.DNN(network, checkpoint_path='model_alexnet',\n",
    "                        max_checkpoints=1, tensorboard_verbose=2, tensorboard_dir='log')\n",
    "\n",
    "    return model\n",
    "\n",
    "model = alexnet(WIDTH, HEIGHT, LR, output=29)\n",
    "\n",
    "if LOAD_MODEL:\n",
    "    model.load(PREV_MODEL)\n",
    "    print('We have loaded a previous model!!!!')\n",
    "    \n",
    "# iterates through the training files\n",
    "for e in range(EPOCHS):\n",
    "    data_order = [i for i in range(0,FILE_I_END)]\n",
    "    #shuffle(data_order)\n",
    "    for count,i in enumerate(data_order):\n",
    "        try:\n",
    "            #processed image rgb color - no image filters\n",
    "            file_name_x = 'data/dfx-{}.pkl'.format(i)\n",
    "            file_name_y = 'data/dfy-{}.pkl'.format(i)           \n",
    "            print(file_name_x)\n",
    "            #We load the images of the gameplay\n",
    "            x_training_data=pd.read_pickle(file_name_x)  \n",
    "            #We load the inputs of the of the gameplay\n",
    "            y_training_data=pd.read_pickle(file_name_y)  \n",
    "            X_train, X_valid, y_train, y_valid = train_test_split(x_training_data, y_training_data, test_size=0.2, random_state=6)\n",
    "            # Train Image part ( 4 Dimensional)\n",
    "            X_image = np.array([df_to_numpy_image(X_train,i) for i in X_train.index])\n",
    "            X=X_image.reshape(-1,WIDTH,HEIGHT,3)\n",
    "\n",
    "            #Train Input part ( 1 Dimensional )\n",
    "            Y = [df_to_numpy_input(y_train,i) for i in y_train.index]\n",
    "\n",
    "\n",
    "            # Test Image part ( 4 Dimensional)\n",
    "            test_image = np.array([df_to_numpy_image(X_valid,i) for i in X_valid.index])\n",
    "            test_x=test_image.reshape(-1,WIDTH,HEIGHT,3)\n",
    "\n",
    "            ## Test Input part( 1 Dimensional )\n",
    "            test_y = [df_to_numpy_input(y_valid,i) for i in y_valid.index]\n",
    "\n",
    "                     \n",
    "            model.fit( X, Y, n_epoch=1, \n",
    "                      validation_set=(test_x,test_y), \n",
    "                      snapshot_step=200, \n",
    "                      show_metric=True, \n",
    "                      run_id=MODEL_NAME)\n",
    "            if count%4 == 0:\n",
    "                print('SAVING MODEL!')\n",
    "                model.save(MODEL_NAME)                  \n",
    "        except Exception as e:\n",
    "            print(str(e))"
   ]
  },
  {
   "cell_type": "markdown",
   "id": "9d2a0b36",
   "metadata": {},
   "source": [
    "# Tensorboard"
   ]
  },
  {
   "cell_type": "code",
   "execution_count": 34,
   "id": "32f90bac",
   "metadata": {},
   "outputs": [],
   "source": [
    "#!tensorboard --logdir log"
   ]
  },
  {
   "cell_type": "code",
   "execution_count": null,
   "id": "db007e6d",
   "metadata": {},
   "outputs": [],
   "source": [
    "%load_ext tensorboard\n",
    "%tensorboard --logdir log"
   ]
  }
 ],
 "metadata": {
  "kernelspec": {
   "display_name": "Python (keras)",
   "language": "python",
   "name": "keras"
  },
  "language_info": {
   "codemirror_mode": {
    "name": "ipython",
    "version": 3
   },
   "file_extension": ".py",
   "mimetype": "text/x-python",
   "name": "python",
   "nbconvert_exporter": "python",
   "pygments_lexer": "ipython3",
   "version": "3.7.0"
  }
 },
 "nbformat": 4,
 "nbformat_minor": 5
}
